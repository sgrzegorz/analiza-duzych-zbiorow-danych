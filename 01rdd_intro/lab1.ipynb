{
 "cells": [
  {
   "cell_type": "code",
   "execution_count": 1,
   "id": "f3e69b79-40d0-4149-9789-2798c22a2134",
   "metadata": {},
   "outputs": [],
   "source": [
    "from pyspark.sql import SparkSession\n",
    "import re\n",
    "import pandas as pd\n",
    "import matplotlib.pyplot as plt\n",
    "%matplotlib inline\n",
    "\n",
    "\n"
   ]
  },
  {
   "cell_type": "code",
   "execution_count": 3,
   "id": "a88a42d1-1138-4410-ad3c-4ea1d4b168ab",
   "metadata": {},
   "outputs": [],
   "source": [
    "spark = SparkSession.builder.getOrCreate()\n",
    "sc = sc = spark.sparkContext\n",
    "\n",
    "apache_logs = sc.textFile(\"apache_logs\")\n"
   ]
  },
  {
   "cell_type": "code",
   "execution_count": 100,
   "id": "0748c82d-29af-4bd7-82e9-bd57e85da98b",
   "metadata": {
    "tags": []
   },
   "outputs": [
    {
     "data": {
      "text/html": [
       "<div>\n",
       "<style scoped>\n",
       "    .dataframe tbody tr th:only-of-type {\n",
       "        vertical-align: middle;\n",
       "    }\n",
       "\n",
       "    .dataframe tbody tr th {\n",
       "        vertical-align: top;\n",
       "    }\n",
       "\n",
       "    .dataframe thead th {\n",
       "        text-align: right;\n",
       "    }\n",
       "</style>\n",
       "<table border=\"1\" class=\"dataframe\">\n",
       "  <thead>\n",
       "    <tr style=\"text-align: right;\">\n",
       "      <th></th>\n",
       "      <th>0</th>\n",
       "      <th>1</th>\n",
       "    </tr>\n",
       "  </thead>\n",
       "  <tbody>\n",
       "    <tr>\n",
       "      <th>0</th>\n",
       "      <td>google.com</td>\n",
       "      <td>909</td>\n",
       "    </tr>\n",
       "    <tr>\n",
       "      <th>1</th>\n",
       "      <td>feedparser.org</td>\n",
       "      <td>364</td>\n",
       "    </tr>\n",
       "    <tr>\n",
       "      <th>2</th>\n",
       "      <td>search.msn</td>\n",
       "      <td>118</td>\n",
       "    </tr>\n",
       "    <tr>\n",
       "      <th>3</th>\n",
       "      <td>FeedBurner.com</td>\n",
       "      <td>108</td>\n",
       "    </tr>\n",
       "    <tr>\n",
       "      <th>4</th>\n",
       "      <td>help.yahoo</td>\n",
       "      <td>106</td>\n",
       "    </tr>\n",
       "    <tr>\n",
       "      <th>5</th>\n",
       "      <td>yandex.com</td>\n",
       "      <td>86</td>\n",
       "    </tr>\n",
       "    <tr>\n",
       "      <th>6</th>\n",
       "      <td>baidu.com</td>\n",
       "      <td>85</td>\n",
       "    </tr>\n",
       "    <tr>\n",
       "      <th>7</th>\n",
       "      <td>tt-rss.org</td>\n",
       "      <td>83</td>\n",
       "    </tr>\n",
       "    <tr>\n",
       "      <th>8</th>\n",
       "      <td>google.co</td>\n",
       "      <td>77</td>\n",
       "    </tr>\n",
       "    <tr>\n",
       "      <th>9</th>\n",
       "      <td>bing.com</td>\n",
       "      <td>63</td>\n",
       "    </tr>\n",
       "  </tbody>\n",
       "</table>\n",
       "</div>"
      ],
      "text/plain": [
       "                0    1\n",
       "0      google.com  909\n",
       "1  feedparser.org  364\n",
       "2      search.msn  118\n",
       "3  FeedBurner.com  108\n",
       "4      help.yahoo  106\n",
       "5      yandex.com   86\n",
       "6       baidu.com   85\n",
       "7      tt-rss.org   83\n",
       "8       google.co   77\n",
       "9        bing.com   63"
      ]
     },
     "execution_count": 100,
     "metadata": {},
     "output_type": "execute_result"
    }
   ],
   "source": [
    "\n",
    "\n",
    "def search_result(line):\n",
    "    regular_expression = r\"(?i)\\b((?:https?:\\/\\/|www\\d{0,3}[.]|[a-z0-9.\\-]+[.][a-z]{2,4}\\/)(?:[^\\s()<>]+|\\(([^\\s()<>]+|(\\([^\\s()<>]+\\)))*\\))+(?:\\(([^\\s()<>]+|(\\([^\\s()<>]+\\)))*\\)|[^\\s`!()\\[\\]{};:'\\\".,<>?«»“”‘’]))\"\n",
    "    url =re.search(regular_expression, line)\n",
    "    if url:\n",
    "        url = url.group(0)\n",
    "        url = url.replace('//www.','//')\n",
    "        regular_expression1 = '(?<=\\/\\/)[^\\.]+\\.\\w+'\n",
    "        result = re.search(regular_expression1, url)\n",
    "        if result:\n",
    "            result = result.group(0)\n",
    "            return result\n",
    "\n",
    "\n",
    "\n",
    "\n",
    "lines =apache_logs.map(search_result) \n",
    "lines = lines.filter(lambda x: x is not None)\n",
    "lines = lines.filter(lambda x: x !='semicomplete.com')\n",
    "lines = lines.map(lambda x: (x,1))\n",
    "lines = lines.reduceByKey(lambda a, b: a + b)\n",
    "lines = lines.takeOrdered(10, lambda pair: -pair[1])\n",
    "lines = pd.DataFrame(lines)\n",
    "lines\n"
   ]
  },
  {
   "cell_type": "code",
   "execution_count": 104,
   "id": "e8ce655b-8ee1-49dc-bac5-839301a56c41",
   "metadata": {},
   "outputs": [
    {
     "data": {
      "image/png": "[encoded data removed]",
      "text/plain": [
       "<Figure size 1080x360 with 1 Axes>"
      ]
     },
     "metadata": {
      "needs_background": "light"
     },
     "output_type": "display_data"
    }
   ],
   "source": [
    "fig = plt.figure(figsize=(15,5))\n",
    "plt.bar(lines[0],lines[1])\n",
    "plt.title('The most popular website (referer)')\n",
    "plt.show()"
   ]
  },
  {
   "cell_type": "code",
   "execution_count": 28,
   "id": "bcff94e1-5f4d-44de-8ca5-c5b6cd37a5bc",
   "metadata": {
    "tags": []
   },
   "outputs": [
    {
     "data": {
      "text/html": [
       "<div>\n",
       "<style scoped>\n",
       "    .dataframe tbody tr th:only-of-type {\n",
       "        vertical-align: middle;\n",
       "    }\n",
       "\n",
       "    .dataframe tbody tr th {\n",
       "        vertical-align: top;\n",
       "    }\n",
       "\n",
       "    .dataframe thead th {\n",
       "        text-align: right;\n",
       "    }\n",
       "</style>\n",
       "<table border=\"1\" class=\"dataframe\">\n",
       "  <thead>\n",
       "    <tr style=\"text-align: right;\">\n",
       "      <th></th>\n",
       "      <th>response</th>\n",
       "      <th>hour</th>\n",
       "      <th>amount</th>\n",
       "    </tr>\n",
       "  </thead>\n",
       "  <tbody>\n",
       "    <tr>\n",
       "      <th>0</th>\n",
       "      <td>500</td>\n",
       "      <td>15</td>\n",
       "      <td>1</td>\n",
       "    </tr>\n",
       "    <tr>\n",
       "      <th>1</th>\n",
       "      <td>500</td>\n",
       "      <td>14</td>\n",
       "      <td>1</td>\n",
       "    </tr>\n",
       "    <tr>\n",
       "      <th>2</th>\n",
       "      <td>500</td>\n",
       "      <td>3</td>\n",
       "      <td>1</td>\n",
       "    </tr>\n",
       "    <tr>\n",
       "      <th>3</th>\n",
       "      <td>416</td>\n",
       "      <td>6</td>\n",
       "      <td>2</td>\n",
       "    </tr>\n",
       "    <tr>\n",
       "      <th>4</th>\n",
       "      <td>404</td>\n",
       "      <td>23</td>\n",
       "      <td>4</td>\n",
       "    </tr>\n",
       "    <tr>\n",
       "      <th>...</th>\n",
       "      <td>...</td>\n",
       "      <td>...</td>\n",
       "      <td>...</td>\n",
       "    </tr>\n",
       "    <tr>\n",
       "      <th>101</th>\n",
       "      <td>200</td>\n",
       "      <td>4</td>\n",
       "      <td>331</td>\n",
       "    </tr>\n",
       "    <tr>\n",
       "      <th>102</th>\n",
       "      <td>200</td>\n",
       "      <td>3</td>\n",
       "      <td>338</td>\n",
       "    </tr>\n",
       "    <tr>\n",
       "      <th>103</th>\n",
       "      <td>200</td>\n",
       "      <td>2</td>\n",
       "      <td>347</td>\n",
       "    </tr>\n",
       "    <tr>\n",
       "      <th>104</th>\n",
       "      <td>200</td>\n",
       "      <td>1</td>\n",
       "      <td>313</td>\n",
       "    </tr>\n",
       "    <tr>\n",
       "      <th>105</th>\n",
       "      <td>200</td>\n",
       "      <td>0</td>\n",
       "      <td>333</td>\n",
       "    </tr>\n",
       "  </tbody>\n",
       "</table>\n",
       "<p>106 rows × 3 columns</p>\n",
       "</div>"
      ],
      "text/plain": [
       "     response  hour  amount\n",
       "0         500    15       1\n",
       "1         500    14       1\n",
       "2         500     3       1\n",
       "3         416     6       2\n",
       "4         404    23       4\n",
       "..        ...   ...     ...\n",
       "101       200     4     331\n",
       "102       200     3     338\n",
       "103       200     2     347\n",
       "104       200     1     313\n",
       "105       200     0     333\n",
       "\n",
       "[106 rows x 3 columns]"
      ]
     },
     "execution_count": 28,
     "metadata": {},
     "output_type": "execute_result"
    }
   ],
   "source": [
    "#\\] \"(?!GET|HEAD|POST|OPTIONS)\n",
    "\n",
    "def process(line):\n",
    "    hour_regex = r\"\\d{4}:(\\d{2}):\\d{2}:\\d{2}\"\n",
    "    response_regex =r\"\\\"(?:GET|HEAD|POST|OPTIONS)\\s[^\\\"]+\\\"\\s(\\d+)\"\n",
    "    hour = int(re.search(hour_regex, line).group(1))\n",
    "    response = int(re.search(response_regex, line).group(1))\n",
    "    return ((response, hour),1)\n",
    "    \n",
    "\n",
    "    \n",
    "data = (apache_logs.map(process)\n",
    "    .reduceByKey(lambda a,b: a+b)\n",
    "    .sortByKey(ascending=False,keyfunc= lambda x: x)\n",
    "    .map(lambda x: (x[0][0],x[0][1],x[1]))\n",
    "    .collect()\n",
    ")\n",
    "\n",
    "\n",
    "df = pd.DataFrame(data,columns=['response','hour','amount'])\n",
    "\n",
    "df\n"
   ]
  },
  {
   "cell_type": "code",
   "execution_count": 29,
   "id": "bc8451f1-e3c2-425c-88df-880823ceb11e",
   "metadata": {},
   "outputs": [
    {
     "data": {
      "image/png": "[encoded data removed]",
      "text/plain": [
       "<Figure size 432x288 with 1 Axes>"
      ]
     },
     "metadata": {
      "needs_background": "light"
     },
     "output_type": "display_data"
    }
   ],
   "source": [
    "df.pivot(\"hour\", \"response\", \"amount\").plot(kind='bar',title='Response types on different hours')\n",
    "plt.show()\n"
   ]
  },
  {
   "cell_type": "code",
   "execution_count": 34,
   "id": "1dc7d6ff-5c6b-420d-8703-5dfbb63aaa97",
   "metadata": {},
   "outputs": [
    {
     "data": {
      "image/png": "[encoded data removed]",
      "text/plain": [
       "<Figure size 432x288 with 1 Axes>"
      ]
     },
     "metadata": {
      "needs_background": "light"
     },
     "output_type": "display_data"
    }
   ],
   "source": [
    "\n",
    "def process(line):\n",
    "    suffix_regex = r\"\\\"(?:GET|HEAD|POST|OPTIONS)\\s[^\\\"\\s]+\\.(\\w+)(?=\\s)\"\n",
    "    ext = re.search(suffix_regex, line)\n",
    "    if(ext):\n",
    "        return ext.group(1)\n",
    "\n",
    "data = (apache_logs.map(process)\n",
    "    .map(lambda x: 'no_type' if (x is None) else x)\n",
    "    .map(lambda x: (x,1))\n",
    "    .reduceByKey(lambda a, b: a + b)\n",
    "    .takeOrdered(10, lambda pair: -pair[1])\n",
    ")\n",
    "\n",
    "\n",
    "df = pd.DataFrame(data,columns=['suffix','amount'])\n",
    "\n",
    "df.plot(x='suffix',y='amount',kind='bar',title='Response types on different hours')\n",
    "plt.show()\n"
   ]
  },
  {
   "cell_type": "code",
   "execution_count": 133,
   "id": "02991279-5424-40d2-9660-f149843a005e",
   "metadata": {},
   "outputs": [
    {
     "data": {
      "text/plain": [
       "[1, 2, 3, 'no_type']"
      ]
     },
     "execution_count": 133,
     "metadata": {},
     "output_type": "execute_result"
    }
   ],
   "source": [
    "a =[1,2,3,None]\n",
    "list(map(lambda x: 'no_type' if (x is None) else x,a))\n",
    "\n",
    "\n"
   ]
  },
  {
   "cell_type": "code",
   "execution_count": null,
   "id": "266bf634-1b9f-4460-bbb5-53bfd18ac5bc",
   "metadata": {},
   "outputs": [],
   "source": []
  }
 ],
 "metadata": {
  "kernelspec": {
   "display_name": "Python 3.8 (XPython)",
   "language": "python",
   "name": "xpython"
  },
  "language_info": {
   "file_extension": ".py",
   "mimetype": "text/x-python",
   "name": "python",
   "version": "3.8.12"
  }
 },
 "nbformat": 4,
 "nbformat_minor": 5
}
