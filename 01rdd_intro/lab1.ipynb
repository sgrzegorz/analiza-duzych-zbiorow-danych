{
 "cells": [
  {
   "cell_type": "code",
   "execution_count": null,
   "id": "f3e69b79-40d0-4149-9789-2798c22a2134",
   "metadata": {},
   "outputs": [],
   "source": []
  },
  {
   "cell_type": "code",
   "execution_count": 32,
   "id": "a88a42d1-1138-4410-ad3c-4ea1d4b168ab",
   "metadata": {},
   "outputs": [],
   "source": [
    "from pyspark.sql import SparkSession\n",
    "import re\n",
    "import pandas as pd\n",
    "import matplotlib.pyplot as plt\n",
    "%matplotlib inline\n",
    "\n",
    "\n",
    "spark = SparkSession.builder.getOrCreate()\n",
    "sc = sc = spark.sparkContext\n",
    "\n",
    "apache_logs = sc.textFile(\"apache_logs\")\n"
   ]
  },
  {
   "cell_type": "code",
   "execution_count": 29,
   "id": "0748c82d-29af-4bd7-82e9-bd57e85da98b",
   "metadata": {
    "tags": []
   },
   "outputs": [
    {
     "data": {
      "text/html": [
       "<div>\n",
       "<style scoped>\n",
       "    .dataframe tbody tr th:only-of-type {\n",
       "        vertical-align: middle;\n",
       "    }\n",
       "\n",
       "    .dataframe tbody tr th {\n",
       "        vertical-align: top;\n",
       "    }\n",
       "\n",
       "    .dataframe thead th {\n",
       "        text-align: right;\n",
       "    }\n",
       "</style>\n",
       "<table border=\"1\" class=\"dataframe\">\n",
       "  <thead>\n",
       "    <tr style=\"text-align: right;\">\n",
       "      <th></th>\n",
       "      <th>0</th>\n",
       "      <th>1</th>\n",
       "    </tr>\n",
       "  </thead>\n",
       "  <tbody>\n",
       "    <tr>\n",
       "      <th>0</th>\n",
       "      <td>google.com</td>\n",
       "      <td>909</td>\n",
       "    </tr>\n",
       "    <tr>\n",
       "      <th>1</th>\n",
       "      <td>feedparser.org</td>\n",
       "      <td>364</td>\n",
       "    </tr>\n",
       "    <tr>\n",
       "      <th>2</th>\n",
       "      <td>search.msn</td>\n",
       "      <td>118</td>\n",
       "    </tr>\n",
       "    <tr>\n",
       "      <th>3</th>\n",
       "      <td>FeedBurner.com</td>\n",
       "      <td>108</td>\n",
       "    </tr>\n",
       "    <tr>\n",
       "      <th>4</th>\n",
       "      <td>help.yahoo</td>\n",
       "      <td>106</td>\n",
       "    </tr>\n",
       "    <tr>\n",
       "      <th>5</th>\n",
       "      <td>yandex.com</td>\n",
       "      <td>86</td>\n",
       "    </tr>\n",
       "    <tr>\n",
       "      <th>6</th>\n",
       "      <td>baidu.com</td>\n",
       "      <td>85</td>\n",
       "    </tr>\n",
       "    <tr>\n",
       "      <th>7</th>\n",
       "      <td>tt-rss.org</td>\n",
       "      <td>83</td>\n",
       "    </tr>\n",
       "    <tr>\n",
       "      <th>8</th>\n",
       "      <td>google.co</td>\n",
       "      <td>77</td>\n",
       "    </tr>\n",
       "    <tr>\n",
       "      <th>9</th>\n",
       "      <td>bing.com</td>\n",
       "      <td>63</td>\n",
       "    </tr>\n",
       "  </tbody>\n",
       "</table>\n",
       "</div>"
      ],
      "text/plain": [
       "                0    1\n",
       "0      google.com  909\n",
       "1  feedparser.org  364\n",
       "2      search.msn  118\n",
       "3  FeedBurner.com  108\n",
       "4      help.yahoo  106\n",
       "5      yandex.com   86\n",
       "6       baidu.com   85\n",
       "7      tt-rss.org   83\n",
       "8       google.co   77\n",
       "9        bing.com   63"
      ]
     },
     "execution_count": 29,
     "metadata": {},
     "output_type": "execute_result"
    }
   ],
   "source": [
    "\n",
    "\n",
    "q ='207.241.237.101 - - [17/May/2015:10:05:51 +0000] \"GET /blog/tags/regex HTTP/1.0\" 200 14888 \"http://www.semicomplete.com/blog/tags/C\" \"Mozilla/5.0 (compatible; archive.org_bot +http://www.archive.org/details/archive.org_bot)\"'\n",
    "q1 = 'fnianf'\n",
    "\n",
    "\n",
    "def search_result(line):\n",
    "    regular_expression = r\"(?i)\\b((?:https?:\\/\\/|www\\d{0,3}[.]|[a-z0-9.\\-]+[.][a-z]{2,4}\\/)(?:[^\\s()<>]+|\\(([^\\s()<>]+|(\\([^\\s()<>]+\\)))*\\))+(?:\\(([^\\s()<>]+|(\\([^\\s()<>]+\\)))*\\)|[^\\s`!()\\[\\]{};:'\\\".,<>?«»“”‘’]))\"\n",
    "    url =re.search(regular_expression, line)\n",
    "    if url:\n",
    "        url = url.group(0)\n",
    "        url = url.replace('//www.','//')\n",
    "        regular_expression1 = '(?<=\\/\\/)[^\\.]+\\.\\w+'\n",
    "        result = re.search(regular_expression1, url)\n",
    "        if result:\n",
    "            result = result.group(0)\n",
    "            return result\n",
    "\n",
    "\n",
    "\n",
    "\n",
    "lines =apache_logs.map(search_result) \n",
    "lines = lines.filter(lambda x: x is not None)\n",
    "lines = lines.filter(lambda x: x !='semicomplete.com')\n",
    "lines = lines.map(lambda x: (x,1))\n",
    "lines = lines.reduceByKey(lambda a, b: a + b)\n",
    "lines = lines.takeOrdered(10, lambda pair: -pair[1])\n",
    "lines = pd.DataFrame(lines)\n",
    "lines\n"
   ]
  },
  {
   "cell_type": "code",
   "execution_count": 33,
   "id": "e8ce655b-8ee1-49dc-bac5-839301a56c41",
   "metadata": {},
   "outputs": [
    {
     "data": {
      "image/png": "[encoded data removed]",
      "text/plain": [
       "<Figure size 1080x360 with 1 Axes>"
      ]
     },
     "metadata": {
      "needs_background": "light"
     },
     "output_type": "display_data"
    }
   ],
   "source": [
    "fig = plt.figure(figsize=(15,5))\n",
    "plt.bar(lines[0],lines[1])\n",
    "\n",
    "plt.show()"
   ]
  },
  {
   "cell_type": "code",
   "execution_count": null,
   "id": "bcff94e1-5f4d-44de-8ca5-c5b6cd37a5bc",
   "metadata": {},
   "outputs": [],
   "source": []
  },
  {
   "cell_type": "code",
   "execution_count": 10,
   "id": "ea9ea411-8b99-4cb2-85bc-ee4dd5b49edf",
   "metadata": {},
   "outputs": [
    {
     "name": "stdout",
     "output_type": "stream",
     "text": [
      "adictosalared.com\n"
     ]
    }
   ],
   "source": [
    "\n",
    "def search_result(line):\n",
    "    regular_expression = r\"(?i)\\b((?:https?:\\/\\/|www\\d{0,3}[.]|[a-z0-9.\\-]+[.][a-z]{2,4}\\/)(?:[^\\s()<>]+|\\(([^\\s()<>]+|(\\([^\\s()<>]+\\)))*\\))+(?:\\(([^\\s()<>]+|(\\([^\\s()<>]+\\)))*\\)|[^\\s`!()\\[\\]{};:'\\\".,<>?«»“”‘’]))\"\n",
    "    url =re.search(regular_expression, line)\n",
    "    if url:\n",
    "        url = url.group(0)\n",
    "        url = url.replace('//www.','//')\n",
    "        regular_expression1 = '(?<=\\/\\/)[^\\.]+\\.\\w+'\n",
    "        result = re.search(regular_expression1, url)\n",
    "        if result:\n",
    "            result = result.group(0)\n",
    "            return result\n",
    "\n",
    "\n",
    "line = '192.30.34.115 - - [17/May/2015:18:05:21 +0000] \"HEAD /blog/geekery/jquery-interface-puffer.html HTTP/1.1\" 200 - \"http://www.adictosalared.com\" \"Mozilla/5.0 (compatible; MSIE 9.0; Windows NT 6.1; WOW64; Trident/5.0)\"'\n",
    "print(search_result(line))\n"
   ]
  },
  {
   "cell_type": "code",
   "execution_count": 30,
   "id": "29970297-e8e2-48ac-af6d-47ca21e006ec",
   "metadata": {},
   "outputs": [
    {
     "data": {
      "text/plain": [
       "pyspark.rdd.PipelinedRDD"
      ]
     },
     "execution_count": 30,
     "metadata": {},
     "output_type": "execute_result"
    }
   ],
   "source": [
    "\n",
    "'www.'"
   ]
  },
  {
   "cell_type": "code",
   "execution_count": null,
   "id": "a453bca3-07fc-4d29-8e7d-ebd20901a92c",
   "metadata": {},
   "outputs": [],
   "source": []
  }
 ],
 "metadata": {
  "kernelspec": {
   "display_name": "Python 3.8 (XPython)",
   "language": "python",
   "name": "xpython"
  },
  "language_info": {
   "file_extension": ".py",
   "mimetype": "text/x-python",
   "name": "python",
   "version": "3.8.12"
  }
 },
 "nbformat": 4,
 "nbformat_minor": 5
}
