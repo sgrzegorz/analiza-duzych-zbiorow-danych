{
 "cells": [
  {
   "cell_type": "code",
   "execution_count": null,
   "id": "f3e69b79-40d0-4149-9789-2798c22a2134",
   "metadata": {},
   "outputs": [],
   "source": []
  },
  {
   "cell_type": "code",
   "execution_count": 2,
   "id": "a88a42d1-1138-4410-ad3c-4ea1d4b168ab",
   "metadata": {},
   "outputs": [],
   "source": [
    "from pyspark.sql import SparkSession\n",
    "import re\n",
    "spark = SparkSession.builder.getOrCreate()\n",
    "sc = sc = spark.sparkContext\n",
    "\n",
    "apache_logs = sc.textFile(\"apache_logs\")\n"
   ]
  },
  {
   "cell_type": "code",
   "execution_count": 18,
   "id": "0748c82d-29af-4bd7-82e9-bd57e85da98b",
   "metadata": {
    "tags": []
   },
   "outputs": [
    {
     "data": {
      "text/plain": [
       "[('google.com', 909),\n",
       " ('feedparser.org', 364),\n",
       " ('search.msn', 118),\n",
       " ('FeedBurner.com', 108),\n",
       " ('help.yahoo', 106),\n",
       " ('yandex.com', 86),\n",
       " ('baidu.com', 85),\n",
       " ('tt-rss.org', 83),\n",
       " ('google.co', 77),\n",
       " ('bing.com', 63)]"
      ]
     },
     "execution_count": 18,
     "metadata": {},
     "output_type": "execute_result"
    }
   ],
   "source": [
    "\n",
    "\n",
    "q ='207.241.237.101 - - [17/May/2015:10:05:51 +0000] \"GET /blog/tags/regex HTTP/1.0\" 200 14888 \"http://www.semicomplete.com/blog/tags/C\" \"Mozilla/5.0 (compatible; archive.org_bot +http://www.archive.org/details/archive.org_bot)\"'\n",
    "q1 = 'fnianf'\n",
    "\n",
    "\n",
    "def search_result(line):\n",
    "    regular_expression = r\"(?i)\\b((?:https?:\\/\\/|www\\d{0,3}[.]|[a-z0-9.\\-]+[.][a-z]{2,4}\\/)(?:[^\\s()<>]+|\\(([^\\s()<>]+|(\\([^\\s()<>]+\\)))*\\))+(?:\\(([^\\s()<>]+|(\\([^\\s()<>]+\\)))*\\)|[^\\s`!()\\[\\]{};:'\\\".,<>?«»“”‘’]))\"\n",
    "    url =re.search(regular_expression, line)\n",
    "    if url:\n",
    "        url = url.group(0)\n",
    "        url = url.replace('//www.','//')\n",
    "        regular_expression1 = '(?<=\\/\\/)[^\\.]+\\.\\w+'\n",
    "        result = re.search(regular_expression1, url)\n",
    "        if result:\n",
    "            result = result.group(0)\n",
    "            return result\n",
    "\n",
    "\n",
    "\n",
    "\n",
    "lines =apache_logs.map(search_result) \n",
    "lines = lines.filter(lambda x: x is not None)\n",
    "lines = lines.filter(lambda x: x !='semicomplete.com')\n",
    "lines = lines.map(lambda x: (x,1))\n",
    "lines = lines.reduceByKey(lambda a, b: a + b)\n",
    "lines = lines.takeOrdered(10, lambda pair: -pair[1])\n",
    "\n",
    "lines\n"
   ]
  },
  {
   "cell_type": "code",
   "execution_count": null,
   "id": "e8ce655b-8ee1-49dc-bac5-839301a56c41",
   "metadata": {},
   "outputs": [],
   "source": []
  },
  {
   "cell_type": "code",
   "execution_count": 10,
   "id": "ea9ea411-8b99-4cb2-85bc-ee4dd5b49edf",
   "metadata": {},
   "outputs": [
    {
     "name": "stdout",
     "output_type": "stream",
     "text": [
      "adictosalared.com\n"
     ]
    }
   ],
   "source": [
    "\n",
    "def search_result(line):\n",
    "    regular_expression = r\"(?i)\\b((?:https?:\\/\\/|www\\d{0,3}[.]|[a-z0-9.\\-]+[.][a-z]{2,4}\\/)(?:[^\\s()<>]+|\\(([^\\s()<>]+|(\\([^\\s()<>]+\\)))*\\))+(?:\\(([^\\s()<>]+|(\\([^\\s()<>]+\\)))*\\)|[^\\s`!()\\[\\]{};:'\\\".,<>?«»“”‘’]))\"\n",
    "    url =re.search(regular_expression, line)\n",
    "    if url:\n",
    "        url = url.group(0)\n",
    "        url = url.replace('//www.','//')\n",
    "        regular_expression1 = '(?<=\\/\\/)[^\\.]+\\.\\w+'\n",
    "        result = re.search(regular_expression1, url)\n",
    "        if result:\n",
    "            result = result.group(0)\n",
    "            return result\n",
    "\n",
    "\n",
    "line = '192.30.34.115 - - [17/May/2015:18:05:21 +0000] \"HEAD /blog/geekery/jquery-interface-puffer.html HTTP/1.1\" 200 - \"http://www.adictosalared.com\" \"Mozilla/5.0 (compatible; MSIE 9.0; Windows NT 6.1; WOW64; Trident/5.0)\"'\n",
    "print(search_result(line))\n"
   ]
  },
  {
   "cell_type": "code",
   "execution_count": 30,
   "id": "29970297-e8e2-48ac-af6d-47ca21e006ec",
   "metadata": {},
   "outputs": [
    {
     "data": {
      "text/plain": [
       "pyspark.rdd.PipelinedRDD"
      ]
     },
     "execution_count": 30,
     "metadata": {},
     "output_type": "execute_result"
    }
   ],
   "source": [
    "\n",
    "'www.'"
   ]
  },
  {
   "cell_type": "code",
   "execution_count": null,
   "id": "a453bca3-07fc-4d29-8e7d-ebd20901a92c",
   "metadata": {},
   "outputs": [],
   "source": []
  }
 ],
 "metadata": {
  "kernelspec": {
   "display_name": "Python 3.8 (XPython)",
   "language": "python",
   "name": "xpython"
  },
  "language_info": {
   "file_extension": ".py",
   "mimetype": "text/x-python",
   "name": "python",
   "version": "3.8.12"
  }
 },
 "nbformat": 4,
 "nbformat_minor": 5
}
