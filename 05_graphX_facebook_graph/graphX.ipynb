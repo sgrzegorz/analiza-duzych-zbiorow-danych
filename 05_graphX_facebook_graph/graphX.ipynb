{
 "cells": [
  {
   "cell_type": "code",
   "execution_count": 1,
   "id": "7ec87a15",
   "metadata": {},
   "outputs": [
    {
     "data": {
      "text/plain": [
       "Intitializing Scala interpreter ..."
      ]
     },
     "metadata": {},
     "output_type": "display_data"
    },
    {
     "data": {
      "text/plain": [
       "Spark Web UI available at http://control-plane.minikube.internal:4041\n",
       "SparkContext available as 'sc' (version = 3.2.0, master = local[*], app id = local-1640133588503)\n",
       "SparkSession available as 'spark'\n"
      ]
     },
     "metadata": {},
     "output_type": "display_data"
    },
    {
     "data": {
      "text/plain": [
       "import org.apache.spark.graphx._\n"
      ]
     },
     "execution_count": 1,
     "metadata": {},
     "output_type": "execute_result"
    }
   ],
   "source": [
    "import org.apache.spark.graphx._\n"
   ]
  },
  {
   "cell_type": "markdown",
   "id": "f215387b",
   "metadata": {},
   "source": [
    "Wczytać graf Facebooka, krawędzie z pliku musae_facebook_edges.csv, atrybuty page_name oraz page_type z pliku musae_facebook_target.csv.  Policzyć liczbę krawędzi i wierzchołków. (1 p.)\n"
   ]
  },
  {
   "cell_type": "code",
   "execution_count": 2,
   "id": "007afc18",
   "metadata": {},
   "outputs": [
    {
     "name": "stdout",
     "output_type": "stream",
     "text": [
      "+---+-----+\n",
      "|  0|18427|\n",
      "+---+-----+\n",
      "|  1|21708|\n",
      "|  1|22208|\n",
      "|  1|22171|\n",
      "|  1| 6829|\n",
      "|  1|16590|\n",
      "|  1|20135|\n",
      "|  1| 8894|\n",
      "|  1|15785|\n",
      "|  1|10281|\n",
      "|  1|22265|\n",
      "|  1| 7136|\n",
      "|  1|22405|\n",
      "|  1|10379|\n",
      "|  1|13737|\n",
      "|  1| 8533|\n",
      "|  1|14344|\n",
      "|  1| 2812|\n",
      "|  1| 5755|\n",
      "|  1|16260|\n",
      "|  1|15026|\n",
      "+---+-----+\n",
      "only showing top 20 rows\n",
      "\n"
     ]
    },
    {
     "data": {
      "text/plain": [
       "import org.apache.spark.sql.SparkSession\n",
       "import org.apache.spark.graphx._\n",
       "spark: org.apache.spark.sql.SparkSession = org.apache.spark.sql.SparkSession@22dcc76f\n",
       "edges: org.apache.spark.sql.DataFrame = [0: string, 18427: string]\n",
       "res0: java.util.List[org.apache.spark.sql.Row] = [[1,21708], [1,22208], [1,22171], [1,6829], [1,16590], [1,20135], [1,8894], [1,15785], [1,10281], [1,22265], [1,7136], [1,22405], [1,10379], [1,13737], [1,8533], [1,14344], [1,2812], [1,5755], [1,16260], [1,15026], [1,17370], [1,17460], [1,8049], [1,5307], [1,4987], [1,18304], [1,12305], [1,19743], [1,20024], [1,21729], [1,10554], [1,11557], [1,5228], [1,9934], [2,9048], [2,6353], [2,2629], [2,11537], [2,13205], [2,22304], [2,17728], [2,19337], [2,126], [2,17554], [2,8495], [2,5857], [3,16742], [3,293], [3,5826], [3...\n"
      ]
     },
     "execution_count": 2,
     "metadata": {},
     "output_type": "execute_result"
    }
   ],
   "source": [
    "import org.apache.spark.sql.SparkSession\n",
    "import org.apache.spark.graphx._\n",
    "\n",
    "val spark = SparkSession\n",
    "  .builder()\n",
    "  .appName(\"Spark SQL basic example\")\n",
    "  .config(\"spark.some.config.option\", \"some-value\")\n",
    "  .getOrCreate()\n",
    "\n",
    "\n",
    "var edges = spark.read.option(\"header\",\"true\").csv(\"facebook_large/musae_facebook_edges.csv\")\n",
    "\n",
    "edges.show()\n",
    "// edges??\n",
    "\n",
    "edges.collectAsList"
   ]
  },
  {
   "cell_type": "code",
   "execution_count": null,
   "id": "bd00f69a",
   "metadata": {},
   "outputs": [],
   "source": []
  },
  {
   "cell_type": "code",
   "execution_count": null,
   "id": "a4ff1a88",
   "metadata": {},
   "outputs": [],
   "source": []
  },
  {
   "cell_type": "code",
   "execution_count": 3,
   "id": "17e07cc4",
   "metadata": {},
   "outputs": [
    {
     "data": {
      "text/plain": [
       "edges: org.apache.spark.rdd.RDD[org.apache.spark.graphx.Edge[String]] = MapPartitionsRDD[18] at map at <console>:32\n",
       "myEdges: org.apache.spark.rdd.RDD[org.apache.spark.graphx.Edge[String]] = MapPartitionsRDD[18] at map at <console>:32\n"
      ]
     },
     "execution_count": 3,
     "metadata": {},
     "output_type": "execute_result"
    }
   ],
   "source": [
    "val edges  = sc.textFile(\"facebook_large/musae_facebook_edges.csv\").map { line =>\n",
    "  val fields = line.split(\",\")\n",
    "  (Edge(fields(0).toLong, fields(1).toLong,\"\"))\n",
    "}\n",
    "// print(users.toArray())\n",
    "\n",
    "val myEdges = edges"
   ]
  },
  {
   "cell_type": "code",
   "execution_count": 4,
   "id": "b18d9d0b",
   "metadata": {},
   "outputs": [
    {
     "data": {
      "text/plain": [
       "vertices: org.apache.spark.rdd.RDD[(Long, (Long, String, String))] = MapPartitionsRDD[21] at map at <console>:32\n",
       "myVertices: org.apache.spark.rdd.RDD[(Long, (Long, String, String))] = MapPartitionsRDD[21] at map at <console>:32\n",
       "myGraph: org.apache.spark.graphx.Graph[(Long, String, String),String] = org.apache.spark.graphx.impl.GraphImpl@1e75aefb\n"
      ]
     },
     "execution_count": 4,
     "metadata": {},
     "output_type": "execute_result"
    }
   ],
   "source": [
    "val vertices = sc.textFile(\"facebook_large/musae_facebook_target.csv\").map { line =>\n",
    "   var fields = line.split(\",\")\n",
    "    (fields(0).toLong, (fields(1).toLong,fields(2),fields(3)))\n",
    "}\n",
    "\n",
    "val myVertices = vertices\n",
    "\n",
    "val myGraph = Graph(myVertices, myEdges)\n"
   ]
  },
  {
   "cell_type": "code",
   "execution_count": 5,
   "id": "b56c45e9",
   "metadata": {},
   "outputs": [
    {
     "data": {
      "text/plain": [
       "res1: Array[org.apache.spark.graphx.Edge[String]] = Array(Edge(0,18427,), Edge(1,2812,), Edge(1,4987,), Edge(1,5228,), Edge(1,5307,), Edge(1,5755,), Edge(1,6829,), Edge(1,7136,), Edge(1,8049,), Edge(1,8533,), Edge(1,8894,), Edge(1,9934,), Edge(1,10281,), Edge(1,10379,), Edge(1,10554,), Edge(1,11557,), Edge(1,12305,), Edge(1,13737,), Edge(1,14344,), Edge(1,15026,), Edge(1,15785,), Edge(1,16260,), Edge(1,16590,), Edge(1,17370,), Edge(1,17460,), Edge(1,18304,), Edge(1,19743,), Edge(1,20024,), Edge(1,20135,), Edge(1,21708,), Edge(1,21729,), Edge(1,22171,), Edge(1,22208,), Edge(1,22265,), Edge(1,22405,), Edge(2,126,), Edge(2,2629,), Edge(2,5857,), Edge(2,6353,), Edge(2,8495,), Edge(2,9048,), Edge(2,11537,), Edge(2,13205,), Edge(2,17554,), Edge(2,17728,), Edge(2,19337,), Edge(2,22304,), Edge(...\n"
      ]
     },
     "execution_count": 5,
     "metadata": {},
     "output_type": "execute_result"
    }
   ],
   "source": [
    "myGraph.edges.collect"
   ]
  },
  {
   "cell_type": "code",
   "execution_count": 6,
   "id": "f516e5a4",
   "metadata": {},
   "outputs": [
    {
     "data": {
      "text/plain": [
       "res2: Array[(org.apache.spark.graphx.VertexId, (Long, String, String))] = Array((15474,(707703419357258,\"India in Switzerland (Embassy of India,\" Berne)\"\")), (9200,(211745678846355,DW - Euromaxx,tvshow)), (20484,(191017970161,The Popcorn Factory,company)), (18624,(244266119255283,Famous,tvshow)), (7608,(142237522483061,HLN News Now,tvshow)), (9166,(110108698921,Austin HSEM,government)), (20904,(147622675410632,Teavana Middle East,company)), (18500,(133612666671985,Werner Kogler,politician)), (11490,(814952568554378,Jandarmeria Română,government)), (19226,(333417953483668,Museo Archeologico Nazionale di Mantova,government)), (13298,(466287346850150,Pyramide,tvshow)), (14882,(237088976355538,Andrew Percy,politician)), (18656,(1548560332084555,Lawrence Springborg MP,politician)), (13278,(1...\n"
      ]
     },
     "execution_count": 6,
     "metadata": {},
     "output_type": "execute_result"
    }
   ],
   "source": [
    "myGraph.vertices.collect"
   ]
  },
  {
   "cell_type": "code",
   "execution_count": 7,
   "id": "b7886ba4",
   "metadata": {},
   "outputs": [
    {
     "name": "stdout",
     "output_type": "stream",
     "text": [
      "Edges=171002\n",
      "Vertices=22470\n"
     ]
    }
   ],
   "source": [
    "println(f\"Edges=${myGraph.edges.collect.length}\")\n",
    "println(f\"Vertices=${myGraph.vertices.collect.length}\")"
   ]
  },
  {
   "cell_type": "markdown",
   "id": "2bee3f15",
   "metadata": {},
   "source": [
    "2.Sprawdzić czy graf jest spójny. Czy dwa podgrafy utworzone dla typów strony politician oraz company też są spójne? (1 p.)\n"
   ]
  },
  {
   "cell_type": "code",
   "execution_count": 8,
   "id": "5d5c1d57",
   "metadata": {},
   "outputs": [
    {
     "data": {
      "text/plain": [
       "cc: Int = 1\n"
      ]
     },
     "execution_count": 8,
     "metadata": {},
     "output_type": "execute_result"
    }
   ],
   "source": [
    "val cc = myGraph.connectedComponents().vertices.collect.map(x => x._2).distinct.length\n",
    "// Ma 1 spójną składową czyli jest spójny"
   ]
  },
  {
   "cell_type": "code",
   "execution_count": 9,
   "id": "17661156",
   "metadata": {},
   "outputs": [
    {
     "data": {
      "text/plain": [
       "subgraph: org.apache.spark.graphx.Graph[(Long, String, String),String] = org.apache.spark.graphx.impl.GraphImpl@271a452d\n",
       "res4: Int = 44\n"
      ]
     },
     "execution_count": 9,
     "metadata": {},
     "output_type": "execute_result"
    }
   ],
   "source": [
    "val subgraph = myGraph.subgraph(vpred = (vid, attr) => attr._3 == \"politician\")\n",
    "// subgraph.vertices.collect.length\n",
    "subgraph.connectedComponents().vertices.collect.map(x => x._2).distinct.length //nie jest spójny"
   ]
  },
  {
   "cell_type": "code",
   "execution_count": 10,
   "id": "222edc16",
   "metadata": {},
   "outputs": [
    {
     "data": {
      "text/plain": [
       "subgraph: org.apache.spark.graphx.Graph[(Long, String, String),String] = org.apache.spark.graphx.impl.GraphImpl@5e1b27dc\n",
       "res5: Int = 180\n"
      ]
     },
     "execution_count": 10,
     "metadata": {},
     "output_type": "execute_result"
    }
   ],
   "source": [
    "val subgraph = myGraph.subgraph(vpred = (vid, attr) => attr._3 == \"company\")\n",
    "subgraph.connectedComponents().vertices.collect.map(x => x._2).distinct.length  //nie jest spójny"
   ]
  },
  {
   "cell_type": "code",
   "execution_count": 11,
   "id": "d6744557",
   "metadata": {},
   "outputs": [
    {
     "data": {
      "text/plain": [
       "res6: Int = 6465\n"
      ]
     },
     "execution_count": 11,
     "metadata": {},
     "output_type": "execute_result"
    }
   ],
   "source": [
    "subgraph.connectedComponents().vertices.collect.length"
   ]
  },
  {
   "cell_type": "code",
   "execution_count": 12,
   "id": "c696b48b",
   "metadata": {},
   "outputs": [
    {
     "data": {
      "text/plain": [
       "res7: Long = 180\n"
      ]
     },
     "execution_count": 12,
     "metadata": {},
     "output_type": "execute_result"
    }
   ],
   "source": [
    "subgraph.connectedComponents().vertices.map(x => x._2).distinct.count\n"
   ]
  },
  {
   "cell_type": "markdown",
   "id": "b702bc6f",
   "metadata": {},
   "source": [
    "3.Spośród 1000 stron o najwyższym PageRank znaleźć 50 takich (wypisać page_name i page_type), które mają najmniej połączeń oraz 50 o największej liczbie połączeń. Który typ strony był dominujący w każdej z tych kategorii? Narysować wykres zależności PageRank od liczby krawędzi dla wierzchołków (scatter plot) (2 p.)\n"
   ]
  },
  {
   "cell_type": "code",
   "execution_count": 13,
   "id": "7c0157ad",
   "metadata": {},
   "outputs": [
    {
     "data": {
      "text/plain": [
       "pageRankedGraph: org.apache.spark.rdd.RDD[(org.apache.spark.graphx.VertexId, (Double, (Long, String, String)))] = MapPartitionsRDD[2248] at join at <console>:32\n"
      ]
     },
     "execution_count": 13,
     "metadata": {},
     "output_type": "execute_result"
    }
   ],
   "source": [
    "val pageRankedGraph = myGraph.pageRank(0.0001).vertices.join(vertices)\n",
    "// pageRankedGraph.collect.foreach(println)"
   ]
  },
  {
   "cell_type": "code",
   "execution_count": 14,
   "id": "303e95a8",
   "metadata": {},
   "outputs": [
    {
     "data": {
      "text/plain": [
       "list: Array[(org.apache.spark.graphx.VertexId, (Double, (Long, String, String)))] = Array((21729,(118.94062246225538,(63811549237,The Obama White House,government))), (22208,(67.13872903779196,(9229303148,U.S. Department of State: Consular Affairs,government))), (21781,(56.441613845716724,(101690176567548,Microsoft,company))), (22440,(55.24474131605187,(178004959035323,City of Los Altos Police Department,government))), (22057,(48.04856548640848,(105403482831839,The Connecticut National Guard,government))), (22438,(47.839737511075526,(154329207930803,Federica Mogherini,politician))), (22329,(47.03110185658694,(198228890287761,NHTSA,government))), (20415,(42.78414021359476,(741724592531706,Joachim Herrmann,politician))), (22403,(36.55870819775559,(6172639058,Dr. Hedy Fry,politician))), (2...\n"
      ]
     },
     "execution_count": 14,
     "metadata": {},
     "output_type": "execute_result"
    }
   ],
   "source": [
    "var list = pageRankedGraph.collect().sortBy(-_._2._1).take(1000)//sortWith((a,b) => a._1._0 > b._1._0)  //.take(3)\n"
   ]
  },
  {
   "cell_type": "code",
   "execution_count": 15,
   "id": "82fb372c",
   "metadata": {},
   "outputs": [
    {
     "data": {
      "text/plain": [
       "degrees: org.apache.spark.graphx.VertexRDD[Int] = VertexRDDImpl[2252] at RDD at VertexRDD.scala:57\n",
       "ids: scala.collection.immutable.Map[org.apache.spark.graphx.VertexId,Int] = Map(14221 -> 3, 2163 -> 2, 8607 -> 2, 13950 -> 17, 20873 -> 5, 16466 -> 93, 19887 -> 3, 18180 -> 9, 16383 -> 5, 892 -> 1, 10822 -> 1, 16216 -> 6, 15874 -> 5, 5385 -> 5, 7375 -> 2, 5659 -> 2, 19204 -> 14, 20194 -> 2, 14977 -> 2, 11866 -> 1, 12928 -> 10, 21605 -> 27, 17671 -> 44, 2199 -> 2, 8062 -> 28, 3021 -> 4, 13650 -> 4, 5437 -> 2, 20200 -> 22, 1665 -> 3, 15767 -> 1, 21624 -> 3, 5509 -> 8, 5686 -> 3, 1036 -> 1, 9982 -> 6, 2822 -> 7, 7304 -> 5, 16794 -> 15, 14852 -> 17, 19370 -> 3, 10007 -> 38, 9131 -> 1, 21729 -> 643, 13052 -> 5, 15806 -> 9, 6085 -> 2, 13266 -> 1, 3873 -> 1, 10917 -> 3, 4188 -> 8, 15643 -> 10, 20...\n"
      ]
     },
     "execution_count": 15,
     "metadata": {},
     "output_type": "execute_result"
    }
   ],
   "source": [
    "var degrees = myGraph.inDegrees // computes in Degrees\n",
    "//   .foreach(x => println(x._1 + \" has \" + x._2 + \" in degrees.\"))\n",
    "// for(i <- l)\n",
    "var ids = degrees.collect().toMap//map(x => x._1)\n"
   ]
  },
  {
   "cell_type": "code",
   "execution_count": 16,
   "id": "17077786",
   "metadata": {},
   "outputs": [
    {
     "name": "stdout",
     "output_type": "stream",
     "text": [
      "(21729,643,118.94062246225538,The Obama White House,government)\n",
      "(19743,605,34.638867699989376,The White House,government)\n",
      "(16895,551,20.611043303459116,U.S. Army,government)\n",
      "(14497,430,16.245459331337617,U.S. Army Chaplain Corps,government)\n",
      "(19347,385,25.577927493564236,FEMA Federal Emergency Management Agency,government)\n",
      "(10379,374,12.346423772468668,U.S. Department of State,government)\n",
      "(22171,308,25.05820459428762,U.S. Embassy Ottawa,government)\n",
      "(20415,281,42.78414021359476,Joachim Herrmann,politician)\n",
      "(21120,271,10.078283487641166,European Parliament,government)\n",
      "(19757,249,14.66710791085862,National Oceanic and Atmospheric Administration (NOAA),government)\n",
      "(10426,248,6.954618858672891,\"Los Angeles District, U.S. Army Corps of Engineers\")\n",
      "(15236,247,6.834541980826256,United States Air Force,government)\n",
      "(18966,243,13.25115500053774,U.S. Marine Corps,government)\n",
      "(18906,239,11.501970462942756,U.S. National Weather Service (NWS),government)\n",
      "(16869,221,11.172761496831988,CDC,government)\n",
      "(20276,219,11.568920957726823,U.S. Army Office of the Chief of Public Affairs,government)\n",
      "(16977,215,6.634588274531761,U.S. Army Europe,government)\n",
      "(21491,211,29.641706896454124,Katarina Barley,politician)\n",
      "(15531,211,6.542206198311149,Army Sustainment,government)\n",
      "(22208,205,67.13872903779196,U.S. Department of State: Consular Affairs,government)\n",
      "(13294,201,6.0471453153852135,European Commission,government)\n",
      "(14650,198,11.407298977335175,Manfred Weber,politician)\n",
      "(16052,195,8.98226755622976,Senate of Canada - Sénat du Canada,government)\n",
      "(18216,191,9.931079987277062,\"AFOSR, Air Force Office of Scientific Research\")\n",
      "(21708,187,24.59773761786973,U.S. Department of State: Bureau of Intl Narcotics & Law Enforcement (INL),government)\n",
      "(17056,186,7.766652358667483,Martin Schulz,politician)\n",
      "(20892,180,20.077354982372942,West Point - The U.S. Military Academy,government)\n",
      "(16960,179,7.670185566586883,European External Action Service - EEAS,government)\n",
      "(17402,178,5.78333426888715,U.S. Central Command,government)\n",
      "(17384,175,5.722898286766262,TRICARE,government)\n",
      "(18155,167,13.009849066832455,Angela Merkel,politician)\n",
      "(18819,167,11.427923364619867,Niels Annen,politician)\n",
      "(19573,163,7.41212414683745,Army Family and MWR Programs,government)\n",
      "(11003,161,8.344303166882193,Barack Obama,politician)\n",
      "(15174,159,3.8153371593998573,U.S. Army Command and General Staff College,government)\n",
      "(10241,154,5.006906631117576,EU Law and Publications,government)\n",
      "(17370,154,4.425974391002226,International Exchange Alumni,government)\n",
      "(18512,151,5.90387718855779,NOAA Digital Coast,government)\n",
      "(11332,151,3.4834829604877253,NASA - National Aeronautics and Space Administration,company)\n",
      "(22403,148,36.55870819775559,Dr. Hedy Fry,politician)\n",
      "(17984,146,5.5639286786933395,Army Housing,government)\n",
      "(21254,145,20.866481989512778,US National Weather Service Burlington VT,government)\n",
      "(14181,144,3.8617461688388244,USAID - US Agency for International Development,government)\n",
      "(15951,141,3.863764190717509,U.S. Army Reserve,government)\n",
      "(22110,140,23.251635225140568,Johannes Schraps,politician)\n",
      "(20343,139,7.96841805176608,Defense Finance and Accounting Service - DFAS,government)\n",
      "(11657,136,3.452708392464431,U.S. Embassy in Mozambique,government)\n",
      "(20559,135,12.724022715407262,Ready,government)\n",
      "(10468,135,4.306834949356101,Army OneSource,government)\n",
      "(17983,132,10.858959114725026,CNN,company)\n"
     ]
    },
    {
     "data": {
      "text/plain": [
       "sorted: Array[(org.apache.spark.graphx.VertexId, Int, Double, String, String)] = Array((21729,643,118.94062246225538,The Obama White House,government), (22208,205,67.13872903779196,U.S. Department of State: Consular Affairs,government), (21781,13,56.441613845716724,Microsoft,company), (22440,43,55.24474131605187,City of Los Altos Police Department,government), (22057,68,48.04856548640848,The Connecticut National Guard,government), (22438,104,47.839737511075526,Federica Mogherini,politician), (22329,104,47.03110185658694,NHTSA,government), (20415,281,42.78414021359476,Joachim Herrmann,politician), (22403,148,36.55870819775559,Dr. Hedy Fry,politician), (21955,81,36.209244761763706,Digicel,company), (19743,605,34.638867699989376,The White House,government), (22230,65,31.765609594719344,Isr...\n"
      ]
     },
     "execution_count": 16,
     "metadata": {},
     "output_type": "execute_result"
    }
   ],
   "source": [
    "var sorted = list.map(x => (x._1, ids(x._1),x._2._1,x._2._2._2,x._2._2._3)).sortBy(-_._3)\n",
    "    \n",
    "var max50 = sorted.take(1000).sortBy(-_._2).take(50).foreach(x => println(x))\n"
   ]
  },
  {
   "cell_type": "code",
   "execution_count": 17,
   "id": "cfdd19fe",
   "metadata": {},
   "outputs": [
    {
     "name": "stdout",
     "output_type": "stream",
     "text": [
      "(21312,1,4.813144726586124,New Balance Brasil,company)\n",
      "(14609,2,6.3437837553842265,spark7,company)\n",
      "(5563,2,6.081924855755155,Viessmann,company)\n",
      "(21726,2,6.035659502181131,Kinder,company)\n",
      "(22165,2,5.148698067549846,adidas Women,company)\n",
      "(21765,2,4.650875131715342,財政部關務署高雄關,government)\n",
      "(21884,2,4.598049278714286,\"Australian High Commission, Malta\")\n",
      "(21125,2,4.494935310239416,CT Style,tvshow)\n",
      "(13880,2,4.053921169063899,\"Bom dia Amazônia, Jornal do AC e G1 AC\")\n",
      "(22088,2,3.58589718740585,Samsung,company)\n",
      "(21391,2,3.5128991414413644,Oracle Latin America,company)\n",
      "(19300,2,3.1770604040546675,El Mundo Del Dulce,company)\n",
      "(20225,3,10.149671485138905,Samsung Ukraine,company)\n",
      "(18748,3,9.615211584629515,Paiz Guatemala,company)\n",
      "(16037,3,5.826233439213546,ENGIE,company)\n",
      "(22260,3,4.756389218533157,The Sopranos,tvshow)\n",
      "(21109,3,4.650677762476443,Galileo Polska,tvshow)\n",
      "(22348,3,4.631246181272619,BASE Belgium,company)\n",
      "(11837,3,4.264842361964212,Cedevita,company)\n",
      "(20777,3,4.042693892291008,Jaguar,company)\n",
      "(20558,3,3.8789187348203322,Vodafone Careers,company)\n",
      "(22462,3,3.7385399162306263,Werner Langen,politician)\n",
      "(21625,3,3.4970355804325,Opodo,company)\n",
      "(4815,3,3.3268008694039928,ING Nederland,company)\n",
      "(13627,3,3.1994451727534376,Microsoft Developer,company)\n",
      "(22425,4,18.922959647376498,Yenda,company)\n",
      "(22284,4,13.750277348737034,Josi Nunes,politician)\n",
      "(21722,4,12.56216688539714,Akris,company)\n",
      "(22354,4,10.801337081821249,Jonathan Stickland,politician)\n",
      "(21719,4,8.703367295969134,Sour Jacks,company)\n",
      "(22253,4,7.121852876554247,Chupa Chups,company)\n",
      "(13579,4,6.0687912528139,Disney Pixar,company)\n",
      "(21360,4,4.678276690530072,Skinny,company)\n",
      "(15068,4,3.7141651905232167,Virginie Calmels,politician)\n",
      "(13658,4,3.541145048401419,Kalraj Mishra,politician)\n",
      "(21481,4,3.526321584805144,\"Secretaría de Innovación, Ciencia y Tecnología\")\n",
      "(14483,4,3.3348519696630414,Rathika Sitsabaiesan,politician)\n",
      "(20126,4,3.2168957277746473,San Pellegrino Fruit Beverages,company)\n",
      "(9921,4,3.213868266194092,Microsoft,company)\n",
      "(20273,5,9.413379012756147,Tous Jewelry,company)\n",
      "(21601,5,7.985505659973066,Iwona Arent,politician)\n",
      "(22218,5,6.278475765838071,Elisabeth Kaiser,politician)\n",
      "(20204,5,5.911901312846469,Jenny Willott,politician)\n",
      "(22409,5,5.532288943376643,FoodSaver,company)\n",
      "(22120,5,5.376793037389402,Borgia,tvshow)\n",
      "(21728,5,5.2254611758172285,Netshoes,company)\n",
      "(21830,5,5.1414654796631405,Ertuğrul Kürkçü,politician)\n",
      "(21870,5,4.211998925872571,Chan Ka Lok 陳家洛,politician)\n",
      "(20536,5,3.9222707356261735,Papas Sabritas,company)\n",
      "(20859,5,3.891491991573537,David Christopherson,politician)\n"
     ]
    },
    {
     "data": {
      "text/plain": [
       "min50: Unit = ()\n"
      ]
     },
     "execution_count": 17,
     "metadata": {},
     "output_type": "execute_result"
    }
   ],
   "source": [
    "var min50 = sorted.take(1000).sortBy(_._2).take(50).foreach(x => println(x))\n"
   ]
  },
  {
   "cell_type": "code",
   "execution_count": 18,
   "id": "1dfb24d5",
   "metadata": {},
   "outputs": [
    {
     "data": {
      "text/plain": [
       "import java.io._\n",
       "pw: java.io.PrintWriter = java.io.PrintWriter@2f2de7ad\n"
      ]
     },
     "execution_count": 18,
     "metadata": {},
     "output_type": "execute_result"
    }
   ],
   "source": [
    "import java.io._\n",
    "val pw = new PrintWriter(new File(\"ex3.csv\" ))\n",
    "pw.println(\"degrees,PageRank\")\n",
    "sorted.map(x => (x._2,x._3)).foreach(tuple => pw.println(tuple.productIterator.mkString(\",\")))\n",
    "pw.close\n"
   ]
  },
  {
   "cell_type": "markdown",
   "id": "6f681b00",
   "metadata": {},
   "source": [
    "4. Korzystając z Pregel API zaimplementować następujący algorytm. W pierwszym kroku wybrana strona publikuje post fake news. W kolejnym kroku ten post publikowany jest przez ⅓ losowo wybranych kontaktów tej strony. W dalszych krokach, dla każdej strony, która opublikowała już ten post, losowo wybrane ⅓ jej kontaktów publikuje go u siebie. Pokazać jak zmienia się liczba stron które opublikowały post w zależności od liczby kroków. (2 p.)\n",
    "Opcjonalnie: Sprawdzić powyższą zależność dla współczynnika innego niż 1/3\n"
   ]
  },
  {
   "cell_type": "code",
   "execution_count": 27,
   "id": "bb3d99c3",
   "metadata": {},
   "outputs": [
    {
     "name": "stdout",
     "output_type": "stream",
     "text": [
      "6063\n"
     ]
    },
    {
     "data": {
      "text/plain": [
       "infected: Int = 1\n",
       "vulnerable: Int = 0\n",
       "start: Int = 8\n",
       "infect: Int = 9\n",
       "import scala.util.Random\n",
       "random: scala.util.Random.type = scala.util.Random$@3e29ea9\n",
       "initialGraph: org.apache.spark.graphx.Graph[Int,String] = org.apache.spark.graphx.impl.GraphImpl@3da6e706\n",
       "bfs: org.apache.spark.graphx.Graph[Int,String] = org.apache.spark.graphx.impl.GraphImpl@7ecef7d1\n",
       "vals: Int = 6063\n"
      ]
     },
     "execution_count": 27,
     "metadata": {},
     "output_type": "execute_result"
    }
   ],
   "source": [
    "\n",
    "\n",
    "val infected=1\n",
    "val vulnerable = 0\n",
    "val start = 8 //some random digit \n",
    "val infect = 9 //some random digit\n",
    "\n",
    "import scala.util.Random\n",
    "val random = Random\n",
    "\n",
    "val initialGraph = myGraph.mapVertices((id,_) => if (id==4) infected else vulnerable )\n",
    "\n",
    "\n",
    "\n",
    "val bfs = initialGraph.pregel(start,100)(\n",
    "    (id,attr,msg) => {\n",
    "        \n",
    "        \n",
    "        if(attr==vulnerable && msg==infect ){\n",
    "\n",
    "            infected\n",
    "        }else{\n",
    "            attr\n",
    "        }     \n",
    "        \n",
    "    },\n",
    "    triplet => {\n",
    "        \n",
    "        if(triplet.srcAttr==infected && random.nextFloat() < 1/3.0){\n",
    "            Iterator((triplet.dstId, infect))\n",
    "        }else{\n",
    "            Iterator.empty\n",
    "        }\n",
    "    },\n",
    "    (a,b) => a\n",
    "\n",
    ")\n",
    "\n",
    "\n",
    "val vals = bfs.vertices.collect().map(v => v._2 ).sum\n",
    "println(vals)"
   ]
  },
  {
   "cell_type": "code",
   "execution_count": 28,
   "id": "3c620032",
   "metadata": {},
   "outputs": [
    {
     "name": "stdout",
     "output_type": "stream",
     "text": [
      "5235\n"
     ]
    },
    {
     "data": {
      "text/plain": [
       "infected: Int = 1\n",
       "vulnerable: Int = 0\n",
       "start: Int = 8\n",
       "infect: Int = 9\n",
       "import scala.util.Random\n",
       "random: scala.util.Random.type = scala.util.Random$@3e29ea9\n",
       "initialGraph: org.apache.spark.graphx.Graph[Int,String] = org.apache.spark.graphx.impl.GraphImpl@70e756b\n",
       "infectedInStep: Int = 0\n",
       "infectedStatistic: List[Int] = List()\n",
       "save: Int = 1\n",
       "bfs: org.apache.spark.graphx.Graph[Int,String] = org.apache.spark.graphx.impl.GraphImpl@5b1a6959\n",
       "vals: Int = 5235\n"
      ]
     },
     "execution_count": 28,
     "metadata": {},
     "output_type": "execute_result"
    }
   ],
   "source": [
    "\n",
    "\n",
    "val infected=1\n",
    "val vulnerable = 0\n",
    "val start = 8 //some random digit \n",
    "val infect = 9 //some random digit\n",
    "\n",
    "import scala.util.Random\n",
    "val random = Random\n",
    "\n",
    "val initialGraph = myGraph.mapVertices((id,_) => if (id==4) infected else vulnerable )\n",
    "\n",
    "\n",
    "var infectedInStep :Int= 0\n",
    "var infectedStatistic : List[Int] = List() \n",
    "var save = 1\n",
    "\n",
    "\n",
    "val bfs = initialGraph.pregel(start,100)(\n",
    "    (id,attr,msg) => {\n",
    "        \n",
    "        \n",
    "        if(attr==vulnerable && msg==infect ){\n",
    "            infectedInStep+=1\n",
    "            save=1\n",
    "            infected\n",
    "        }else{\n",
    "            attr\n",
    "        }     \n",
    "        \n",
    "    },\n",
    "    triplet => {\n",
    "        if(save==1){\n",
    "            infectedStatistic = infectedInStep ::infectedStatistic\n",
    "            infectedInStep = 0  \n",
    "            save = 2\n",
    "        }\n",
    "        \n",
    "        if(triplet.srcAttr==infected && random.nextFloat() < 1/3.0){\n",
    "            Iterator((triplet.dstId, infect))\n",
    "        }else{\n",
    "            Iterator.empty\n",
    "        }\n",
    "    },\n",
    "    (a,b) => a\n",
    "\n",
    ")\n",
    "\n",
    "\n",
    "val vals = bfs.vertices.collect().map(v => v._2 ).sum\n",
    "println(vals)"
   ]
  },
  {
   "cell_type": "code",
   "execution_count": 29,
   "id": "af7a341c",
   "metadata": {},
   "outputs": [
    {
     "name": "stdout",
     "output_type": "stream",
     "text": [
      "List()"
     ]
    }
   ],
   "source": [
    "print(infectedStatistic)"
   ]
  },
  {
   "cell_type": "markdown",
   "id": "f640da6b",
   "metadata": {},
   "source": [
    "5.Narysować wykres rozkładu stopnia wierzchołków w grafie w skali logarytmicznej. Można skorzystać z funkcji obliczającej histogram dla RDD. Czy sieć jest bezskalowa (scale-free)? https://barabasi.com/f/623.pdf  (2 p.)\n"
   ]
  },
  {
   "cell_type": "code",
   "execution_count": null,
   "id": "43418d65",
   "metadata": {},
   "outputs": [],
   "source": [
    "var degrees = myGraph.inDegrees \n",
    "var ids = degrees.collect().toMap\n",
    "import java.io._\n",
    "val pw = new PrintWriter(new File(\"ex4.csv\" ))\n",
    "pw.println(\"id,degree\")\n",
    "ids.foreach(tuple => pw.println(tuple.productIterator.mkString(\",\")))\n",
    "pw.close\n"
   ]
  },
  {
   "cell_type": "code",
   "execution_count": null,
   "id": "a09dc8f2",
   "metadata": {},
   "outputs": [],
   "source": [
    "import scala.util.Random\n",
    "val random = Random\n",
    "if(random.nextFloat() < 1/3.0){\n",
    "    \n",
    "}else{\n",
    "    \n",
    "}"
   ]
  },
  {
   "cell_type": "code",
   "execution_count": null,
   "id": "20628573",
   "metadata": {},
   "outputs": [],
   "source": [
    "1/3.0"
   ]
  }
 ],
 "metadata": {
  "kernelspec": {
   "display_name": "spylon-kernel",
   "language": "scala",
   "name": "spylon-kernel"
  },
  "language_info": {
   "codemirror_mode": "text/x-scala",
   "file_extension": ".scala",
   "help_links": [
    {
     "text": "MetaKernel Magics",
     "url": "https://metakernel.readthedocs.io/en/latest/source/README.html"
    }
   ],
   "mimetype": "text/x-scala",
   "name": "scala",
   "pygments_lexer": "scala",
   "version": "0.4.1"
  }
 },
 "nbformat": 4,
 "nbformat_minor": 5
}
