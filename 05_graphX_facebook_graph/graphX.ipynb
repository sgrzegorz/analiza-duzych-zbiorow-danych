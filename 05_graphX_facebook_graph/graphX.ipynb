{
 "cells": [
  {
   "cell_type": "code",
   "execution_count": 1,
   "id": "7ec87a15",
   "metadata": {},
   "outputs": [
    {
     "data": {
      "text/plain": [
       "Intitializing Scala interpreter ..."
      ]
     },
     "metadata": {},
     "output_type": "display_data"
    },
    {
     "data": {
      "text/plain": [
       "Spark Web UI available at http://control-plane.minikube.internal:4040\n",
       "SparkContext available as 'sc' (version = 3.2.0, master = local[*], app id = local-1640017847356)\n",
       "SparkSession available as 'spark'\n"
      ]
     },
     "metadata": {},
     "output_type": "display_data"
    },
    {
     "data": {
      "text/plain": [
       "import org.apache.spark.graphx._\n"
      ]
     },
     "execution_count": 1,
     "metadata": {},
     "output_type": "execute_result"
    }
   ],
   "source": [
    "import org.apache.spark.graphx._\n"
   ]
  },
  {
   "cell_type": "code",
   "execution_count": 79,
   "id": "eae1b0f8",
   "metadata": {},
   "outputs": [
    {
     "name": "stdout",
     "output_type": "stream",
     "text": [
      "+----+-----+\n",
      "|id_1| id_2|\n",
      "+----+-----+\n",
      "|   0|18427|\n",
      "|   1|21708|\n",
      "|   1|22208|\n",
      "|   1|22171|\n",
      "|   1| 6829|\n",
      "|   1|16590|\n",
      "|   1|20135|\n",
      "|   1| 8894|\n",
      "|   1|15785|\n",
      "|   1|10281|\n",
      "|   1|22265|\n",
      "|   1| 7136|\n",
      "|   1|22405|\n",
      "|   1|10379|\n",
      "|   1|13737|\n",
      "|   1| 8533|\n",
      "|   1|14344|\n",
      "|   1| 2812|\n",
      "|   1| 5755|\n",
      "|   1|16260|\n",
      "+----+-----+\n",
      "only showing top 20 rows\n",
      "\n"
     ]
    },
    {
     "data": {
      "text/plain": [
       "import org.apache.spark.sql.SparkSession\n",
       "import org.apache.spark.graphx._\n",
       "spark: org.apache.spark.sql.SparkSession = org.apache.spark.sql.SparkSession@37dfec6c\n",
       "edges: org.apache.spark.sql.DataFrame = [id_1: string, id_2: string]\n",
       "res53: java.util.List[org.apache.spark.sql.Row] = [[0,18427], [1,21708], [1,22208], [1,22171], [1,6829], [1,16590], [1,20135], [1,8894], [1,15785], [1,10281], [1,22265], [1,7136], [1,22405], [1,10379], [1,13737], [1,8533], [1,14344], [1,2812], [1,5755], [1,16260], [1,15026], [1,17370], [1,17460], [1,8049], [1,5307], [1,4987], [1,18304], [1,12305], [1,19743], [1,20024], [1,21729], [1,10554], [1,11557], [1,5228], [1,9934], [2,9048], [2,6353], [2,2629], [2,11537], [2,13205], [2,22304], [2,17728], [2,19337], [2,126], [2,17554], [2,8495], [2,5857], [3,16742], [3,293]...\n"
      ]
     },
     "execution_count": 79,
     "metadata": {},
     "output_type": "execute_result"
    }
   ],
   "source": [
    "import org.apache.spark.sql.SparkSession\n",
    "import org.apache.spark.graphx._\n",
    "\n",
    "val spark = SparkSession\n",
    "  .builder()\n",
    "  .appName(\"Spark SQL basic example\")\n",
    "  .config(\"spark.some.config.option\", \"some-value\")\n",
    "  .getOrCreate()\n",
    "\n",
    "\n",
    "var edges = spark.read.option(\"header\",\"true\").csv(\"facebook_large/musae_facebook_edges.csv\")\n",
    "\n",
    "edges.show()\n",
    "// edges??\n",
    "\n",
    "edges.collectAsList"
   ]
  },
  {
   "cell_type": "code",
   "execution_count": 85,
   "id": "9ab90eaa",
   "metadata": {},
   "outputs": [
    {
     "data": {
      "text/plain": [
       "import scala.io.Source\n",
       "bufferedSource: scala.io.BufferedSource = <iterator>\n"
      ]
     },
     "execution_count": 85,
     "metadata": {},
     "output_type": "execute_result"
    }
   ],
   "source": [
    "import scala.io.Source\n",
    "val bufferedSource = Source.fromFile(\"facebook_large/musae_facebook_edges.csv\")\n",
    "// var count = 0\n",
    "// for (line <- bufferedSource.getLines) {\n",
    "//     rows(count) = line.split(\",\").map(_.trim)\n",
    "//     count += 1\n",
    "// }"
   ]
  },
  {
   "cell_type": "code",
   "execution_count": 96,
   "id": "1520d0d9",
   "metadata": {},
   "outputs": [
    {
     "data": {
      "text/plain": [
       "users: org.apache.spark.rdd.RDD[org.apache.spark.graphx.Edge[Nothing]] = MapPartitionsRDD[180] at map at <console>:61\n"
      ]
     },
     "execution_count": 96,
     "metadata": {},
     "output_type": "execute_result"
    }
   ],
   "source": []
  },
  {
   "cell_type": "code",
   "execution_count": 135,
   "id": "351433b5",
   "metadata": {},
   "outputs": [
    {
     "data": {
      "text/plain": [
       "edges: org.apache.spark.rdd.RDD[org.apache.spark.graphx.Edge[String]] = MapPartitionsRDD[276] at map at <console>:62\n",
       "myEdges: org.apache.spark.rdd.RDD[org.apache.spark.graphx.Edge[String]] = MapPartitionsRDD[276] at map at <console>:62\n"
      ]
     },
     "execution_count": 135,
     "metadata": {},
     "output_type": "execute_result"
    }
   ],
   "source": [
    "val edges  = sc.textFile(\"facebook_large/musae_facebook_edges.csv\").map { line =>\n",
    "  val fields = line.split(\",\")\n",
    "  (Edge(fields(0).toLong, fields(1).toLong,\"\"))\n",
    "}\n",
    "// print(users.toArray())\n",
    "\n",
    "val myEdges = edges"
   ]
  },
  {
   "cell_type": "code",
   "execution_count": 136,
   "id": "dbdc398c",
   "metadata": {},
   "outputs": [
    {
     "data": {
      "text/plain": [
       "vertices: org.apache.spark.rdd.RDD[(Long, String)] = MapPartitionsRDD[279] at map at <console>:63\n",
       "myVertices: org.apache.spark.rdd.RDD[(Long, String)] = MapPartitionsRDD[279] at map at <console>:63\n",
       "myGraph: org.apache.spark.graphx.Graph[String,String] = org.apache.spark.graphx.impl.GraphImpl@34b28ef\n"
      ]
     },
     "execution_count": 136,
     "metadata": {},
     "output_type": "execute_result"
    }
   ],
   "source": [
    "val vertices = sc.textFile(\"facebook_large/musae_facebook_target.csv\").map { line =>\n",
    "   var fields = line.split(\",\")\n",
    "    (fields(0).toLong, fields(1))\n",
    "}\n",
    "\n",
    "val myVertices = vertices\n",
    "\n",
    "val myGraph = Graph(myVertices, myEdges)\n"
   ]
  },
  {
   "cell_type": "code",
   "execution_count": 137,
   "id": "4207f649",
   "metadata": {},
   "outputs": [
    {
     "data": {
      "text/plain": [
       "res69: Array[org.apache.spark.graphx.Edge[String]] = Array(Edge(0,18427,), Edge(1,2812,), Edge(1,4987,), Edge(1,5228,), Edge(1,5307,), Edge(1,5755,), Edge(1,6829,), Edge(1,7136,), Edge(1,8049,), Edge(1,8533,), Edge(1,8894,), Edge(1,9934,), Edge(1,10281,), Edge(1,10379,), Edge(1,10554,), Edge(1,11557,), Edge(1,12305,), Edge(1,13737,), Edge(1,14344,), Edge(1,15026,), Edge(1,15785,), Edge(1,16260,), Edge(1,16590,), Edge(1,17370,), Edge(1,17460,), Edge(1,18304,), Edge(1,19743,), Edge(1,20024,), Edge(1,20135,), Edge(1,21708,), Edge(1,21729,), Edge(1,22171,), Edge(1,22208,), Edge(1,22265,), Edge(1,22405,), Edge(2,126,), Edge(2,2629,), Edge(2,5857,), Edge(2,6353,), Edge(2,8495,), Edge(2,9048,), Edge(2,11537,), Edge(2,13205,), Edge(2,17554,), Edge(2,17728,), Edge(2,19337,), Edge(2,22304,), Edge...\n"
      ]
     },
     "execution_count": 137,
     "metadata": {},
     "output_type": "execute_result"
    }
   ],
   "source": [
    "myGraph.edges.collect"
   ]
  },
  {
   "cell_type": "code",
   "execution_count": null,
   "id": "d249600d",
   "metadata": {},
   "outputs": [],
   "source": []
  }
 ],
 "metadata": {
  "kernelspec": {
   "display_name": "spylon-kernel",
   "language": "scala",
   "name": "spylon-kernel"
  },
  "language_info": {
   "codemirror_mode": "text/x-scala",
   "file_extension": ".scala",
   "help_links": [
    {
     "text": "MetaKernel Magics",
     "url": "https://metakernel.readthedocs.io/en/latest/source/README.html"
    }
   ],
   "mimetype": "text/x-scala",
   "name": "scala",
   "pygments_lexer": "scala",
   "version": "0.4.1"
  }
 },
 "nbformat": 4,
 "nbformat_minor": 5
}
