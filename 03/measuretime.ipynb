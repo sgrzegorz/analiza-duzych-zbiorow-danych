{
 "cells": [
  {
   "cell_type": "code",
   "execution_count": 1,
   "id": "2f096218",
   "metadata": {},
   "outputs": [
    {
     "data": {
      "application/vnd.jupyter.widget-view+json": {
       "model_id": "47095de789154ce28e568ef2272da196",
       "version_major": 2,
       "version_minor": 0
      },
      "text/plain": [
       "VBox()"
      ]
     },
     "metadata": {},
     "output_type": "display_data"
    },
    {
     "name": "stdout",
     "output_type": "stream",
     "text": [
      "Starting Spark application\n"
     ]
    },
    {
     "data": {
      "text/html": [
       "<table>\n",
       "<tr><th>ID</th><th>YARN Application ID</th><th>Kind</th><th>State</th><th>Spark UI</th><th>Driver log</th><th>Current session?</th></tr><tr><td>6</td><td>application_1636441302464_0007</td><td>pyspark</td><td>idle</td><td><a target=\"_blank\" href=\"http://ip-172-31-16-30.ec2.internal:20888/proxy/application_1636441302464_0007/\">Link</a></td><td><a target=\"_blank\" href=\"http://ip-172-31-27-104.ec2.internal:8042/node/containerlogs/container_1636441302464_0007_01_000001/livy\">Link</a></td><td>✔</td></tr></table>"
      ],
      "text/plain": [
       "<IPython.core.display.HTML object>"
      ]
     },
     "metadata": {},
     "output_type": "display_data"
    },
    {
     "data": {
      "application/vnd.jupyter.widget-view+json": {
       "model_id": "",
       "version_major": 2,
       "version_minor": 0
      },
      "text/plain": [
       "FloatProgress(value=0.0, bar_style='info', description='Progress:', layout=Layout(height='25px', width='50%'),…"
      ]
     },
     "metadata": {},
     "output_type": "display_data"
    },
    {
     "name": "stdout",
     "output_type": "stream",
     "text": [
      "SparkSession available as 'spark'.\n"
     ]
    },
    {
     "data": {
      "application/vnd.jupyter.widget-view+json": {
       "model_id": "",
       "version_major": 2,
       "version_minor": 0
      },
      "text/plain": [
       "FloatProgress(value=0.0, bar_style='info', description='Progress:', layout=Layout(height='25px', width='50%'),…"
      ]
     },
     "metadata": {},
     "output_type": "display_data"
    },
    {
     "name": "stdout",
     "output_type": "stream",
     "text": [
      "Collecting pandas==0.25.1\n",
      "  Using cached https://files.pythonhosted.org/packages/7e/ab/ea76361f9d3e732e114adcd801d2820d5319c23d0ac5482fa3b412db217e/pandas-0.25.1-cp37-cp37m-manylinux1_x86_64.whl\n",
      "Requirement already satisfied: pytz>=2017.2 in /usr/local/lib/python3.7/site-packages (from pandas==0.25.1)\n",
      "Requirement already satisfied: numpy>=1.13.3 in /usr/local/lib64/python3.7/site-packages (from pandas==0.25.1)\n",
      "Collecting python-dateutil>=2.6.1 (from pandas==0.25.1)\n",
      "  Using cached https://files.pythonhosted.org/packages/36/7a/87837f39d0296e723bb9b62bbb257d0355c7f6128853c78955f57342a56d/python_dateutil-2.8.2-py2.py3-none-any.whl\n",
      "Requirement already satisfied: six>=1.5 in /usr/local/lib/python3.7/site-packages (from python-dateutil>=2.6.1->pandas==0.25.1)\n",
      "Installing collected packages: python-dateutil, pandas\n",
      "Successfully installed pandas-0.25.1 python-dateutil-2.8.2\n",
      "\n",
      "Collecting kiwisolver==1.2.0\n",
      "  Using cached https://files.pythonhosted.org/packages/31/b9/6202dcae729998a0ade30e80ac00f616542ef445b088ec970d407dfd41c0/kiwisolver-1.2.0-cp37-cp37m-manylinux1_x86_64.whl\n",
      "Installing collected packages: kiwisolver\n",
      "Successfully installed kiwisolver-1.2.0\n",
      "\n",
      "Collecting matplotlib==3.1.1\n",
      "  Using cached https://files.pythonhosted.org/packages/19/7a/60bd79c5d79559150f8bba866dd7d434f0a170312e4d15e8aefa5faba294/matplotlib-3.1.1-cp37-cp37m-manylinux1_x86_64.whl\n",
      "Requirement already satisfied: python-dateutil>=2.1 in /mnt/tmp/1636462619668-0/lib/python3.7/site-packages (from matplotlib==3.1.1)\n",
      "Collecting pyparsing!=2.0.4,!=2.1.2,!=2.1.6,>=2.0.1 (from matplotlib==3.1.1)\n",
      "  Using cached https://files.pythonhosted.org/packages/f1/10/313669b34fc25319a171b2a3cdec78da4c6b6a29e7bea200c03755bb6396/pyparsing-3.0.5-py3-none-any.whl\n",
      "Collecting cycler>=0.10 (from matplotlib==3.1.1)\n",
      "  Using cached https://files.pythonhosted.org/packages/5c/f9/695d6bedebd747e5eb0fe8fad57b72fdf25411273a39791cde838d5a8f51/cycler-0.11.0-py3-none-any.whl\n",
      "Requirement already satisfied: numpy>=1.11 in /usr/local/lib64/python3.7/site-packages (from matplotlib==3.1.1)\n",
      "Requirement already satisfied: kiwisolver>=1.0.1 in /mnt/tmp/1636462619668-0/lib/python3.7/site-packages (from matplotlib==3.1.1)\n",
      "Requirement already satisfied: six>=1.5 in /usr/local/lib/python3.7/site-packages (from python-dateutil>=2.1->matplotlib==3.1.1)\n",
      "Installing collected packages: pyparsing, cycler, matplotlib\n",
      "Successfully installed cycler-0.11.0 matplotlib-3.1.1 pyparsing-3.0.5\n",
      "\n",
      "Collecting chart_studio\n",
      "  Using cached https://files.pythonhosted.org/packages/ca/ce/330794a6b6ca4b9182c38fc69dd2a9cbff60fd49421cb8648ee5fee352dc/chart_studio-1.1.0-py3-none-any.whl\n",
      "Collecting plotly (from chart_studio)\n",
      "  Using cached https://files.pythonhosted.org/packages/68/b2/7c7d111affebb281b1085680db7358f6204920bb5574e9e84db05c530688/plotly-5.3.1-py2.py3-none-any.whl\n",
      "Requirement already satisfied: six in /usr/local/lib/python3.7/site-packages (from chart_studio)\n",
      "Collecting requests (from chart_studio)\n",
      "  Using cached https://files.pythonhosted.org/packages/92/96/144f70b972a9c0eabbd4391ef93ccd49d0f2747f4f6a2a2738e99e5adc65/requests-2.26.0-py2.py3-none-any.whl\n",
      "Collecting retrying>=1.3.3 (from chart_studio)\n",
      "Collecting tenacity>=6.2.0 (from plotly->chart_studio)\n",
      "  Using cached https://files.pythonhosted.org/packages/f2/a5/f86bc8d67c979020438c8559cc70cfe3a1643fd160d35e09c9cca6a09189/tenacity-8.0.1-py3-none-any.whl\n",
      "Collecting idna<4,>=2.5; python_version >= \"3\" (from requests->chart_studio)\n",
      "  Using cached https://files.pythonhosted.org/packages/04/a2/d918dcd22354d8958fe113e1a3630137e0fc8b44859ade3063982eacd2a4/idna-3.3-py3-none-any.whl\n",
      "Collecting urllib3<1.27,>=1.21.1 (from requests->chart_studio)\n",
      "  Using cached https://files.pythonhosted.org/packages/af/f4/524415c0744552cce7d8bf3669af78e8a069514405ea4fcbd0cc44733744/urllib3-1.26.7-py2.py3-none-any.whl\n",
      "Collecting charset-normalizer~=2.0.0; python_version >= \"3\" (from requests->chart_studio)\n",
      "  Using cached https://files.pythonhosted.org/packages/de/c8/820b1546c68efcbbe3c1b10dd925fbd84a0dda7438bc18db0ef1fa567733/charset_normalizer-2.0.7-py3-none-any.whl\n",
      "Collecting certifi>=2017.4.17 (from requests->chart_studio)\n",
      "  Using cached https://files.pythonhosted.org/packages/37/45/946c02767aabb873146011e665728b680884cd8fe70dde973c640e45b775/certifi-2021.10.8-py2.py3-none-any.whl\n",
      "Installing collected packages: tenacity, plotly, idna, urllib3, charset-normalizer, certifi, requests, retrying, chart-studio\n",
      "Successfully installed certifi-2021.10.8 charset-normalizer-2.0.7 chart-studio-1.1.0 idna-3.3 plotly-5.3.1 requests-2.26.0 retrying-1.3.3 tenacity-8.0.1 urllib3-1.26.7\n",
      "\n",
      "Collecting iso3166\n",
      "  Using cached https://files.pythonhosted.org/packages/32/d8/1fc7d9f5b11b4490c8a9ac9fd79efb466e142468428b71dea42d5756e257/iso3166-2.0.2-py3-none-any.whl\n",
      "Installing collected packages: iso3166\n",
      "Successfully installed iso3166-2.0.2"
     ]
    }
   ],
   "source": [
    "sc.install_pypi_package(\"pandas==0.25.1\")\n",
    "sc.install_pypi_package(\"kiwisolver==1.2.0\")\n",
    "sc.install_pypi_package(\"matplotlib==3.1.1\")\n",
    "sc.install_pypi_package(\"chart_studio\")\n",
    "sc.install_pypi_package(\"iso3166\")"
   ]
  },
  {
   "cell_type": "code",
   "execution_count": 7,
   "id": "15c48cfd",
   "metadata": {},
   "outputs": [
    {
     "data": {
      "application/vnd.jupyter.widget-view+json": {
       "model_id": "5bab367bcbc6411097bf013ec39d28cd",
       "version_major": 2,
       "version_minor": 0
      },
      "text/plain": [
       "VBox()"
      ]
     },
     "metadata": {},
     "output_type": "display_data"
    },
    {
     "data": {
      "application/vnd.jupyter.widget-view+json": {
       "model_id": "",
       "version_major": 2,
       "version_minor": 0
      },
      "text/plain": [
       "FloatProgress(value=0.0, bar_style='info', description='Progress:', layout=Layout(height='25px', width='50%'),…"
      ]
     },
     "metadata": {},
     "output_type": "display_data"
    }
   ],
   "source": [
    "from pyspark.sql import SparkSession\n",
    "from pyspark.conf import SparkConf\n",
    "import numpy as np\n",
    "import pandas as pd\n",
    "from pyspark.sql.functions import *\n",
    "from pyspark.sql.types import FloatType\n",
    "import matplotlib\n",
    "import matplotlib.pyplot as plt\n",
    "matplotlib.style.use('ggplot')\n",
    "from pyspark.sql.types import *\n",
    "from pyspark.sql import *\n",
    "from pyspark import *\n",
    "import regex\n",
    "import time\n",
    "\n",
    "#   https://registry.opendata.aws/openaq/\n",
    "conf = SparkConf()\n",
    "spark = SparkSession.builder.config(conf=conf).getOrCreate()"
   ]
  },
  {
   "cell_type": "code",
   "execution_count": 8,
   "id": "7bd8ede0",
   "metadata": {},
   "outputs": [
    {
     "data": {
      "application/vnd.jupyter.widget-view+json": {
       "model_id": "d4d6bb550cbd40a2baa9c70ee8a60b4c",
       "version_major": 2,
       "version_minor": 0
      },
      "text/plain": [
       "VBox()"
      ]
     },
     "metadata": {},
     "output_type": "display_data"
    },
    {
     "data": {
      "application/vnd.jupyter.widget-view+json": {
       "model_id": "",
       "version_major": 2,
       "version_minor": 0
      },
      "text/plain": [
       "FloatProgress(value=0.0, bar_style='info', description='Progress:', layout=Layout(height='25px', width='50%'),…"
      ]
     },
     "metadata": {},
     "output_type": "display_data"
    }
   ],
   "source": [
    "smog_df = spark.read.json(\"s3a://openaq-fetches/realtime/2019-01*\")"
   ]
  },
  {
   "cell_type": "code",
   "execution_count": 14,
   "id": "db6afa37",
   "metadata": {},
   "outputs": [
    {
     "data": {
      "application/vnd.jupyter.widget-view+json": {
       "model_id": "d9fcbf0702b045dd89999e73cd7acad5",
       "version_major": 2,
       "version_minor": 0
      },
      "text/plain": [
       "VBox()"
      ]
     },
     "metadata": {},
     "output_type": "display_data"
    },
    {
     "data": {
      "application/vnd.jupyter.widget-view+json": {
       "model_id": "",
       "version_major": 2,
       "version_minor": 0
      },
      "text/plain": [
       "FloatProgress(value=0.0, bar_style='info', description='Progress:', layout=Layout(height='25px', width='50%'),…"
      ]
     },
     "metadata": {},
     "output_type": "display_data"
    },
    {
     "name": "stdout",
     "output_type": "stream",
     "text": [
      "Berlin: 59.94\n",
      "+-------------------+------------------+\n",
      "|               city|              mean|\n",
      "+-------------------+------------------+\n",
      "|           Augustów|24.675560675883258|\n",
      "|     Biała Podlaska|40.489652605459064|\n",
      "|          Białystok|25.732748201438856|\n",
      "|      Bielsko-Biała| 54.62891449213161|\n",
      "|       Borsukowizna| 20.85145228215768|\n",
      "|           Borówiec|26.703827871759895|\n",
      "|          Bydgoszcz|33.552165458937196|\n",
      "|              Chełm|  53.1921760391198|\n",
      "|            Cieszyn| 49.85524396848138|\n",
      "|        Częstochowa|46.235271107064854|\n",
      "|     Duszniki-Zdrój|41.700841172839496|\n",
      "|         Działoszyn|23.252095103163686|\n",
      "|        Dzierżoniów|  39.8659613061798|\n",
      "|   Dąbrowa Górnicza|56.166497768240355|\n",
      "|             Elbląg|28.299747942386823|\n",
      "|                Ełk| 29.96607197260275|\n",
      "|              Gajew|33.510316368638236|\n",
      "|             Gdańsk|  21.0576575455483|\n",
      "|             Gdynia|19.889729154667908|\n",
      "|Gorzów Wielkopolski|23.122344225759765|\n",
      "+-------------------+------------------+\n",
      "only showing top 20 rows\n",
      "\n",
      "45.93421697616577\n",
      "Berlin: 59.94\n",
      "+-------------------+------------------+\n",
      "|               city|              mean|\n",
      "+-------------------+------------------+\n",
      "|           Augustów|24.675560675883258|\n",
      "|     Biała Podlaska| 40.48965260545906|\n",
      "|          Białystok|25.732748201438852|\n",
      "|      Bielsko-Biała| 54.62891449213163|\n",
      "|       Borsukowizna|20.851452282157677|\n",
      "|           Borówiec| 26.70382787175989|\n",
      "|          Bydgoszcz| 33.55216545893718|\n",
      "|              Chełm|  53.1921760391198|\n",
      "|            Cieszyn| 49.85524396848137|\n",
      "|        Częstochowa| 46.23527110706483|\n",
      "|     Duszniki-Zdrój|41.700841172839525|\n",
      "|         Działoszyn|23.252095103163693|\n",
      "|        Dzierżoniów|39.865961306179756|\n",
      "|   Dąbrowa Górnicza| 56.16649776824038|\n",
      "|             Elbląg|28.299747942386816|\n",
      "|                Ełk|29.966071972602716|\n",
      "|              Gajew|33.510316368638236|\n",
      "|             Gdańsk|21.057657545548302|\n",
      "|             Gdynia|19.889729154667908|\n",
      "|Gorzów Wielkopolski|23.122344225759768|\n",
      "+-------------------+------------------+\n",
      "only showing top 20 rows\n",
      "\n",
      "29.058592319488525\n",
      "Berlin: 59.94\n",
      "+-------------------+------------------+\n",
      "|               city|              mean|\n",
      "+-------------------+------------------+\n",
      "|           Augustów|24.675560675883265|\n",
      "|     Biała Podlaska|40.489652605459064|\n",
      "|          Białystok| 25.73274820143884|\n",
      "|      Bielsko-Biała| 54.62891449213162|\n",
      "|       Borsukowizna|20.851452282157666|\n",
      "|           Borówiec|26.703827871759895|\n",
      "|          Bydgoszcz|  33.5521654589372|\n",
      "|              Chełm| 53.19217603911981|\n",
      "|            Cieszyn| 49.85524396848137|\n",
      "|        Częstochowa| 46.23527110706482|\n",
      "|     Duszniki-Zdrój| 41.70084117283953|\n",
      "|         Działoszyn|23.252095103163686|\n",
      "|        Dzierżoniów|39.865961306179756|\n",
      "|   Dąbrowa Górnicza|56.166497768240355|\n",
      "|             Elbląg|28.299747942386826|\n",
      "|                Ełk|29.966071972602737|\n",
      "|              Gajew|33.510316368638236|\n",
      "|             Gdańsk|21.057657545548306|\n",
      "|             Gdynia|19.889729154667897|\n",
      "|Gorzów Wielkopolski|23.122344225759765|\n",
      "+-------------------+------------------+\n",
      "only showing top 20 rows\n",
      "\n",
      "28.572231769561768"
     ]
    }
   ],
   "source": [
    "for i in range(3):\n",
    "    start = time.time() \n",
    "    data = smog_df.where(col('parameter')=='pm10')\n",
    "\n",
    "    berlin = (data.where((col('city')=='Berlin'))\n",
    "          .agg(max(col(\"value\")))\n",
    "          .take(1)[0][0]\n",
    "    )\n",
    "\n",
    "    print('Berlin:',berlin)\n",
    "\n",
    "    df = (data.where(col('Country')=='PL')\n",
    "          .groupBy('city').agg(avg(\"value\").alias('mean'))\n",
    "         .where(col('mean') < berlin)\n",
    "          .select('city','mean')\n",
    "          .orderBy('city')\n",
    "          .show()\n",
    "    )\n",
    "\n",
    "    end = time.time() - start\n",
    "    print(end) # seconds"
   ]
  },
  {
   "cell_type": "code",
   "execution_count": null,
   "id": "082ac3a4",
   "metadata": {},
   "outputs": [],
   "source": []
  }
 ],
 "metadata": {
  "kernelspec": {
   "display_name": "PySpark",
   "language": "",
   "name": "pysparkkernel"
  },
  "language_info": {
   "codemirror_mode": {
    "name": "python",
    "version": 2
   },
   "mimetype": "text/x-python",
   "name": "pyspark",
   "pygments_lexer": "python2"
  }
 },
 "nbformat": 4,
 "nbformat_minor": 5
}
