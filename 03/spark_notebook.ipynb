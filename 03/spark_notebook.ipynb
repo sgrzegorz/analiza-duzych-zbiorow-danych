{
 "cells": [
  {
   "cell_type": "code",
   "execution_count": 1,
   "id": "6a6770c8",
   "metadata": {},
   "outputs": [
    {
     "data": {
      "application/vnd.jupyter.widget-view+json": {
       "model_id": "77e9393dcfb647c5aaafd06434139221",
       "version_major": 2,
       "version_minor": 0
      },
      "text/plain": [
       "VBox()"
      ]
     },
     "metadata": {},
     "output_type": "display_data"
    },
    {
     "name": "stdout",
     "output_type": "stream",
     "text": [
      "Starting Spark application\n"
     ]
    },
    {
     "data": {
      "text/html": [
       "<table>\n",
       "<tr><th>ID</th><th>YARN Application ID</th><th>Kind</th><th>State</th><th>Spark UI</th><th>Driver log</th><th>Current session?</th></tr><tr><td>1</td><td>application_1636485116654_0002</td><td>pyspark</td><td>idle</td><td><a target=\"_blank\" href=\"http://ip-172-31-20-83.ec2.internal:20888/proxy/application_1636485116654_0002/\">Link</a></td><td><a target=\"_blank\" href=\"http://ip-172-31-29-146.ec2.internal:8042/node/containerlogs/container_1636485116654_0002_01_000001/livy\">Link</a></td><td>✔</td></tr></table>"
      ],
      "text/plain": [
       "<IPython.core.display.HTML object>"
      ]
     },
     "metadata": {},
     "output_type": "display_data"
    },
    {
     "data": {
      "application/vnd.jupyter.widget-view+json": {
       "model_id": "",
       "version_major": 2,
       "version_minor": 0
      },
      "text/plain": [
       "FloatProgress(value=0.0, bar_style='info', description='Progress:', layout=Layout(height='25px', width='50%'),…"
      ]
     },
     "metadata": {},
     "output_type": "display_data"
    },
    {
     "name": "stdout",
     "output_type": "stream",
     "text": [
      "SparkSession available as 'spark'.\n"
     ]
    },
    {
     "data": {
      "application/vnd.jupyter.widget-view+json": {
       "model_id": "",
       "version_major": 2,
       "version_minor": 0
      },
      "text/plain": [
       "FloatProgress(value=0.0, bar_style='info', description='Progress:', layout=Layout(height='25px', width='50%'),…"
      ]
     },
     "metadata": {},
     "output_type": "display_data"
    },
    {
     "name": "stdout",
     "output_type": "stream",
     "text": [
      "Collecting pandas==0.25.1\n",
      "  Using cached https://files.pythonhosted.org/packages/7e/ab/ea76361f9d3e732e114adcd801d2820d5319c23d0ac5482fa3b412db217e/pandas-0.25.1-cp37-cp37m-manylinux1_x86_64.whl\n",
      "Requirement already satisfied: pytz>=2017.2 in /usr/local/lib/python3.7/site-packages (from pandas==0.25.1)\n",
      "Requirement already satisfied: numpy>=1.13.3 in /usr/local/lib64/python3.7/site-packages (from pandas==0.25.1)\n",
      "Collecting python-dateutil>=2.6.1 (from pandas==0.25.1)\n",
      "  Using cached https://files.pythonhosted.org/packages/36/7a/87837f39d0296e723bb9b62bbb257d0355c7f6128853c78955f57342a56d/python_dateutil-2.8.2-py2.py3-none-any.whl\n",
      "Requirement already satisfied: six>=1.5 in /usr/local/lib/python3.7/site-packages (from python-dateutil>=2.6.1->pandas==0.25.1)\n",
      "Installing collected packages: python-dateutil, pandas\n",
      "Successfully installed pandas-0.25.1 python-dateutil-2.8.2\n",
      "\n",
      "Collecting kiwisolver==1.2.0\n",
      "  Using cached https://files.pythonhosted.org/packages/31/b9/6202dcae729998a0ade30e80ac00f616542ef445b088ec970d407dfd41c0/kiwisolver-1.2.0-cp37-cp37m-manylinux1_x86_64.whl\n",
      "Installing collected packages: kiwisolver\n",
      "Successfully installed kiwisolver-1.2.0\n",
      "\n",
      "Collecting matplotlib==3.1.1\n",
      "  Using cached https://files.pythonhosted.org/packages/19/7a/60bd79c5d79559150f8bba866dd7d434f0a170312e4d15e8aefa5faba294/matplotlib-3.1.1-cp37-cp37m-manylinux1_x86_64.whl\n",
      "Requirement already satisfied: python-dateutil>=2.1 in /mnt/tmp/1636495667605-0/lib/python3.7/site-packages (from matplotlib==3.1.1)\n",
      "Collecting pyparsing!=2.0.4,!=2.1.2,!=2.1.6,>=2.0.1 (from matplotlib==3.1.1)\n",
      "  Using cached https://files.pythonhosted.org/packages/f1/10/313669b34fc25319a171b2a3cdec78da4c6b6a29e7bea200c03755bb6396/pyparsing-3.0.5-py3-none-any.whl\n",
      "Collecting cycler>=0.10 (from matplotlib==3.1.1)\n",
      "  Using cached https://files.pythonhosted.org/packages/5c/f9/695d6bedebd747e5eb0fe8fad57b72fdf25411273a39791cde838d5a8f51/cycler-0.11.0-py3-none-any.whl\n",
      "Requirement already satisfied: numpy>=1.11 in /usr/local/lib64/python3.7/site-packages (from matplotlib==3.1.1)\n",
      "Requirement already satisfied: kiwisolver>=1.0.1 in /mnt/tmp/1636495667605-0/lib/python3.7/site-packages (from matplotlib==3.1.1)\n",
      "Requirement already satisfied: six>=1.5 in /usr/local/lib/python3.7/site-packages (from python-dateutil>=2.1->matplotlib==3.1.1)\n",
      "Installing collected packages: pyparsing, cycler, matplotlib\n",
      "Successfully installed cycler-0.11.0 matplotlib-3.1.1 pyparsing-3.0.5\n",
      "\n",
      "Collecting chart_studio\n",
      "  Using cached https://files.pythonhosted.org/packages/ca/ce/330794a6b6ca4b9182c38fc69dd2a9cbff60fd49421cb8648ee5fee352dc/chart_studio-1.1.0-py3-none-any.whl\n",
      "Collecting plotly (from chart_studio)\n",
      "  Using cached https://files.pythonhosted.org/packages/68/b2/7c7d111affebb281b1085680db7358f6204920bb5574e9e84db05c530688/plotly-5.3.1-py2.py3-none-any.whl\n",
      "Requirement already satisfied: six in /usr/local/lib/python3.7/site-packages (from chart_studio)\n",
      "Collecting requests (from chart_studio)\n",
      "  Using cached https://files.pythonhosted.org/packages/92/96/144f70b972a9c0eabbd4391ef93ccd49d0f2747f4f6a2a2738e99e5adc65/requests-2.26.0-py2.py3-none-any.whl\n",
      "Collecting retrying>=1.3.3 (from chart_studio)\n",
      "Collecting tenacity>=6.2.0 (from plotly->chart_studio)\n",
      "  Using cached https://files.pythonhosted.org/packages/f2/a5/f86bc8d67c979020438c8559cc70cfe3a1643fd160d35e09c9cca6a09189/tenacity-8.0.1-py3-none-any.whl\n",
      "Collecting idna<4,>=2.5; python_version >= \"3\" (from requests->chart_studio)\n",
      "  Using cached https://files.pythonhosted.org/packages/04/a2/d918dcd22354d8958fe113e1a3630137e0fc8b44859ade3063982eacd2a4/idna-3.3-py3-none-any.whl\n",
      "Collecting urllib3<1.27,>=1.21.1 (from requests->chart_studio)\n",
      "  Using cached https://files.pythonhosted.org/packages/af/f4/524415c0744552cce7d8bf3669af78e8a069514405ea4fcbd0cc44733744/urllib3-1.26.7-py2.py3-none-any.whl\n",
      "Collecting charset-normalizer~=2.0.0; python_version >= \"3\" (from requests->chart_studio)\n",
      "  Using cached https://files.pythonhosted.org/packages/de/c8/820b1546c68efcbbe3c1b10dd925fbd84a0dda7438bc18db0ef1fa567733/charset_normalizer-2.0.7-py3-none-any.whl\n",
      "Collecting certifi>=2017.4.17 (from requests->chart_studio)\n",
      "  Using cached https://files.pythonhosted.org/packages/37/45/946c02767aabb873146011e665728b680884cd8fe70dde973c640e45b775/certifi-2021.10.8-py2.py3-none-any.whl\n",
      "Installing collected packages: tenacity, plotly, idna, urllib3, charset-normalizer, certifi, requests, retrying, chart-studio\n",
      "Successfully installed certifi-2021.10.8 charset-normalizer-2.0.7 chart-studio-1.1.0 idna-3.3 plotly-5.3.1 requests-2.26.0 retrying-1.3.3 tenacity-8.0.1 urllib3-1.26.7\n",
      "\n",
      "Collecting iso3166\n",
      "  Using cached https://files.pythonhosted.org/packages/32/d8/1fc7d9f5b11b4490c8a9ac9fd79efb466e142468428b71dea42d5756e257/iso3166-2.0.2-py3-none-any.whl\n",
      "Installing collected packages: iso3166\n",
      "Successfully installed iso3166-2.0.2"
     ]
    }
   ],
   "source": [
    "sc.install_pypi_package(\"pandas==0.25.1\")\n",
    "sc.install_pypi_package(\"kiwisolver==1.2.0\")\n",
    "sc.install_pypi_package(\"matplotlib==3.1.1\")\n",
    "sc.install_pypi_package(\"chart_studio\")\n",
    "sc.install_pypi_package(\"iso3166\")"
   ]
  },
  {
   "cell_type": "code",
   "execution_count": 2,
   "id": "9901f1f3",
   "metadata": {},
   "outputs": [
    {
     "data": {
      "application/vnd.jupyter.widget-view+json": {
       "model_id": "44b992ec082b449c96453456c6f4260b",
       "version_major": 2,
       "version_minor": 0
      },
      "text/plain": [
       "VBox()"
      ]
     },
     "metadata": {},
     "output_type": "display_data"
    },
    {
     "data": {
      "application/vnd.jupyter.widget-view+json": {
       "model_id": "",
       "version_major": 2,
       "version_minor": 0
      },
      "text/plain": [
       "FloatProgress(value=0.0, bar_style='info', description='Progress:', layout=Layout(height='25px', width='50%'),…"
      ]
     },
     "metadata": {},
     "output_type": "display_data"
    }
   ],
   "source": [
    "from pyspark.sql import SparkSession\n",
    "from pyspark.conf import SparkConf\n",
    "import numpy as np\n",
    "import pandas as pd\n",
    "from pyspark.sql.functions import *\n",
    "from pyspark.sql.types import FloatType\n",
    "import matplotlib\n",
    "import matplotlib.pyplot as plt\n",
    "matplotlib.style.use('ggplot')\n",
    "from pyspark.sql.types import *\n",
    "from pyspark.sql import *\n",
    "from pyspark import *\n",
    "import regex\n",
    "import time\n",
    "\n",
    "import dateutil\n",
    "from dateutil.tz import UTC\n",
    "from dateutil.parser import isoparse\n",
    "\n",
    "#   https://registry.opendata.aws/openaq/\n",
    "conf = SparkConf()\n",
    "spark = SparkSession.builder.config(conf=conf).getOrCreate()"
   ]
  },
  {
   "cell_type": "code",
   "execution_count": 3,
   "id": "fa1938cb",
   "metadata": {},
   "outputs": [
    {
     "data": {
      "application/vnd.jupyter.widget-view+json": {
       "model_id": "b32c39d7ed4a413da420de4d7230a0c0",
       "version_major": 2,
       "version_minor": 0
      },
      "text/plain": [
       "VBox()"
      ]
     },
     "metadata": {},
     "output_type": "display_data"
    },
    {
     "data": {
      "application/vnd.jupyter.widget-view+json": {
       "model_id": "",
       "version_major": 2,
       "version_minor": 0
      },
      "text/plain": [
       "FloatProgress(value=0.0, bar_style='info', description='Progress:', layout=Layout(height='25px', width='50%'),…"
      ]
     },
     "metadata": {},
     "output_type": "display_data"
    }
   ],
   "source": [
    "smog_df = spark.read.json(\"s3a://openaq-fetches/realtime/2019-01-21\")"
   ]
  },
  {
   "cell_type": "code",
   "execution_count": null,
   "id": "468aeaed",
   "metadata": {},
   "outputs": [],
   "source": []
  },
  {
   "cell_type": "code",
   "execution_count": 4,
   "id": "5e0b4cdb",
   "metadata": {},
   "outputs": [
    {
     "data": {
      "application/vnd.jupyter.widget-view+json": {
       "model_id": "cef26595e7254389b5bef7332125c62a",
       "version_major": 2,
       "version_minor": 0
      },
      "text/plain": [
       "VBox()"
      ]
     },
     "metadata": {},
     "output_type": "display_data"
    },
    {
     "data": {
      "application/vnd.jupyter.widget-view+json": {
       "model_id": "",
       "version_major": 2,
       "version_minor": 0
      },
      "text/plain": [
       "FloatProgress(value=0.0, bar_style='info', description='Progress:', layout=Layout(height='25px', width='50%'),…"
      ]
     },
     "metadata": {},
     "output_type": "display_data"
    },
    {
     "name": "stdout",
     "output_type": "stream",
     "text": [
      "root\n",
      " |-- attribution: array (nullable = true)\n",
      " |    |-- element: struct (containsNull = true)\n",
      " |    |    |-- name: string (nullable = true)\n",
      " |    |    |-- url: string (nullable = true)\n",
      " |-- averagingPeriod: struct (nullable = true)\n",
      " |    |-- unit: string (nullable = true)\n",
      " |    |-- value: double (nullable = true)\n",
      " |-- city: string (nullable = true)\n",
      " |-- coordinates: struct (nullable = true)\n",
      " |    |-- latitude: double (nullable = true)\n",
      " |    |-- longitude: double (nullable = true)\n",
      " |-- country: string (nullable = true)\n",
      " |-- date: struct (nullable = true)\n",
      " |    |-- local: string (nullable = true)\n",
      " |    |-- utc: string (nullable = true)\n",
      " |-- location: string (nullable = true)\n",
      " |-- mobile: boolean (nullable = true)\n",
      " |-- parameter: string (nullable = true)\n",
      " |-- sourceName: string (nullable = true)\n",
      " |-- sourceType: string (nullable = true)\n",
      " |-- unit: string (nullable = true)\n",
      " |-- value: double (nullable = true)"
     ]
    }
   ],
   "source": [
    "smog_df.printSchema()"
   ]
  },
  {
   "cell_type": "code",
   "execution_count": 5,
   "id": "a6f271ee",
   "metadata": {},
   "outputs": [
    {
     "data": {
      "application/vnd.jupyter.widget-view+json": {
       "model_id": "85cf8f12918d474d9847308ae5a743b6",
       "version_major": 2,
       "version_minor": 0
      },
      "text/plain": [
       "VBox()"
      ]
     },
     "metadata": {},
     "output_type": "display_data"
    },
    {
     "data": {
      "application/vnd.jupyter.widget-view+json": {
       "model_id": "",
       "version_major": 2,
       "version_minor": 0
      },
      "text/plain": [
       "FloatProgress(value=0.0, bar_style='info', description='Progress:', layout=Layout(height='25px', width='50%'),…"
      ]
     },
     "metadata": {},
     "output_type": "display_data"
    },
    {
     "name": "stdout",
     "output_type": "stream",
     "text": [
      "+--------------------+---------------+-----------+--------------------+-------+--------------------+--------------------+------+---------+-------------------+----------+-----+--------+\n",
      "|         attribution|averagingPeriod|       city|         coordinates|country|                date|            location|mobile|parameter|         sourceName|sourceType| unit|   value|\n",
      "+--------------------+---------------+-----------+--------------------+-------+--------------------+--------------------+------+---------+-------------------+----------+-----+--------+\n",
      "|[[Luftkvalitet.in...|   [hours, 1.0]|       Oslo|[59.914106, 10.82...|     NO|[2019-01-21T23:00...|          Bryn skole| false|     pm10|             Norway|government|µg/m³|6.106528|\n",
      "|[[EPA AirNow DOS,...|   [hours, 1.0]|  Hyderabad|[17.38405, 78.45636]|     IN|[2019-01-22T02:00...|US Diplomatic Pos...| false|     pm25| StateAir_Hyderabad|government|µg/m³|    56.0|\n",
      "|[[EPA AirNow DOS,...|   [hours, 1.0]|    Kolkata|[22.56263, 88.36304]|     IN|[2019-01-22T03:00...|US Diplomatic Pos...| false|     pm25|   StateAir_Kolkata|government|µg/m³|   383.0|\n",
      "|[[EPA AirNow DOS,...|   [hours, 1.0]|Kuwait City|[29.292316, 48.04...|     KW|[2019-01-22T00:00...|US Diplomatic Pos...| false|     pm25|StateAir_KuwaitCity|government|µg/m³|    38.0|\n",
      "|[[EPA AirNow DOS,...|   [hours, 1.0]|  Kathmandu|[27.738703, 85.33...|     NP|[2019-01-22T03:00...|US Diplomatic Pos...| false|       o3| StateAir_Kathmandu|government|  ppm|     0.0|\n",
      "+--------------------+---------------+-----------+--------------------+-------+--------------------+--------------------+------+---------+-------------------+----------+-----+--------+\n",
      "only showing top 5 rows"
     ]
    }
   ],
   "source": [
    "smog_df.show(5)"
   ]
  },
  {
   "cell_type": "code",
   "execution_count": 6,
   "id": "6d5f4106",
   "metadata": {},
   "outputs": [
    {
     "data": {
      "application/vnd.jupyter.widget-view+json": {
       "model_id": "2ccc95156b75429daf6676c7a25e6344",
       "version_major": 2,
       "version_minor": 0
      },
      "text/plain": [
       "VBox()"
      ]
     },
     "metadata": {},
     "output_type": "display_data"
    },
    {
     "data": {
      "application/vnd.jupyter.widget-view+json": {
       "model_id": "",
       "version_major": 2,
       "version_minor": 0
      },
      "text/plain": [
       "FloatProgress(value=0.0, bar_style='info', description='Progress:', layout=Layout(height='25px', width='50%'),…"
      ]
     },
     "metadata": {},
     "output_type": "display_data"
    },
    {
     "name": "stdout",
     "output_type": "stream",
     "text": [
      "                                         attribution  ...       value\n",
      "0  [(Luftkvalitet.info, http://www.luftkvalitet.i...  ...    6.106528\n",
      "1  [(EPA AirNow DOS, http://airnow.gov/index.cfm?...  ...   56.000000\n",
      "2  [(EPA AirNow DOS, http://airnow.gov/index.cfm?...  ...  383.000000\n",
      "3  [(EPA AirNow DOS, http://airnow.gov/index.cfm?...  ...   38.000000\n",
      "4  [(EPA AirNow DOS, http://airnow.gov/index.cfm?...  ...    0.000000\n",
      "\n",
      "[5 rows x 13 columns]"
     ]
    }
   ],
   "source": [
    "df = smog_df.limit(10).toPandas()\n",
    "df.head()"
   ]
  },
  {
   "cell_type": "code",
   "execution_count": 7,
   "id": "aa670ba5",
   "metadata": {},
   "outputs": [
    {
     "data": {
      "application/vnd.jupyter.widget-view+json": {
       "model_id": "d967c3d738714c3e8baa44ecb31ee234",
       "version_major": 2,
       "version_minor": 0
      },
      "text/plain": [
       "VBox()"
      ]
     },
     "metadata": {},
     "output_type": "display_data"
    },
    {
     "data": {
      "application/vnd.jupyter.widget-view+json": {
       "model_id": "",
       "version_major": 2,
       "version_minor": 0
      },
      "text/plain": [
       "FloatProgress(value=0.0, bar_style='info', description='Progress:', layout=Layout(height='25px', width='50%'),…"
      ]
     },
     "metadata": {},
     "output_type": "display_data"
    },
    {
     "name": "stdout",
     "output_type": "stream",
     "text": [
      "626607"
     ]
    }
   ],
   "source": [
    "smog_df.count()"
   ]
  },
  {
   "cell_type": "code",
   "execution_count": 8,
   "id": "24702931",
   "metadata": {},
   "outputs": [
    {
     "data": {
      "application/vnd.jupyter.widget-view+json": {
       "model_id": "fbe3789b8a2d4c8e9d1b2db72f472760",
       "version_major": 2,
       "version_minor": 0
      },
      "text/plain": [
       "VBox()"
      ]
     },
     "metadata": {},
     "output_type": "display_data"
    },
    {
     "data": {
      "application/vnd.jupyter.widget-view+json": {
       "model_id": "",
       "version_major": 2,
       "version_minor": 0
      },
      "text/plain": [
       "FloatProgress(value=0.0, bar_style='info', description='Progress:', layout=Layout(height='25px', width='50%'),…"
      ]
     },
     "metadata": {},
     "output_type": "display_data"
    },
    {
     "name": "stdout",
     "output_type": "stream",
     "text": [
      "  parameter\n",
      "0        co\n",
      "1      pm10\n",
      "2       so2\n",
      "3       no2\n",
      "4        bc\n",
      "5      pm25\n",
      "6        o3"
     ]
    }
   ],
   "source": [
    "smog_df.select('parameter').distinct().toPandas()"
   ]
  },
  {
   "cell_type": "code",
   "execution_count": 9,
   "id": "64ac514c",
   "metadata": {},
   "outputs": [
    {
     "data": {
      "application/vnd.jupyter.widget-view+json": {
       "model_id": "c850132861d04bda9f7ab544426c0792",
       "version_major": 2,
       "version_minor": 0
      },
      "text/plain": [
       "VBox()"
      ]
     },
     "metadata": {},
     "output_type": "display_data"
    },
    {
     "data": {
      "application/vnd.jupyter.widget-view+json": {
       "model_id": "",
       "version_major": 2,
       "version_minor": 0
      },
      "text/plain": [
       "FloatProgress(value=0.0, bar_style='info', description='Progress:', layout=Layout(height='25px', width='50%'),…"
      ]
     },
     "metadata": {},
     "output_type": "display_data"
    },
    {
     "name": "stdout",
     "output_type": "stream",
     "text": [
      "   Country\n",
      "0       FI\n",
      "1       MN\n",
      "2       MX\n",
      "3       CZ\n",
      "4       DE\n",
      "5       BH\n",
      "6       IL\n",
      "7       ET\n",
      "8       CH\n",
      "9       MK\n",
      "10      PT\n",
      "11      BD\n",
      "12      CL\n",
      "13      CA\n",
      "14      ZA\n",
      "15      US\n",
      "16      LK\n",
      "17      SI\n",
      "18      IE\n",
      "19      LT\n",
      "20      MT\n",
      "21      BA\n",
      "22      LV\n",
      "23      UG\n",
      "24      HU\n",
      "25      DK\n",
      "26      NL\n",
      "27      PL\n",
      "28      ID\n",
      "29      UZ\n",
      "30      GB\n",
      "31      ES\n",
      "32      IN\n",
      "33      AE\n",
      "34      XK\n",
      "35      IT\n",
      "36      CO\n",
      "37      KW\n",
      "38      LU\n",
      "39      VN\n",
      "40      CN\n",
      "41      AD\n",
      "42      HR\n",
      "43      NP\n",
      "44      HK\n",
      "45      TW\n",
      "46      KZ\n",
      "47      AU\n",
      "48      RS\n",
      "49      FR\n",
      "50      CW\n",
      "51      SK\n",
      "52      PE\n",
      "53      TH\n",
      "54      NO"
     ]
    }
   ],
   "source": [
    "smog_df.select('Country').distinct().toPandas()"
   ]
  },
  {
   "cell_type": "markdown",
   "id": "684f54f9",
   "metadata": {},
   "source": [
    "1. [1p.] Znajdź miasta w Polsce, w których średnie stężenie pyłu “pm10” było niższe niż maksymalne stężenie w Berlinie (w całym badanym okresie). Obliczenia wykonaj dla danych z kilku dni. Wyniki posortuj malejąco po stężeniu pm10."
   ]
  },
  {
   "cell_type": "code",
   "execution_count": 10,
   "id": "23b9d11e",
   "metadata": {},
   "outputs": [
    {
     "data": {
      "application/vnd.jupyter.widget-view+json": {
       "model_id": "eb1ad31068694867ba3a496c321de316",
       "version_major": 2,
       "version_minor": 0
      },
      "text/plain": [
       "VBox()"
      ]
     },
     "metadata": {},
     "output_type": "display_data"
    },
    {
     "data": {
      "application/vnd.jupyter.widget-view+json": {
       "model_id": "",
       "version_major": 2,
       "version_minor": 0
      },
      "text/plain": [
       "FloatProgress(value=0.0, bar_style='info', description='Progress:', layout=Layout(height='25px', width='50%'),…"
      ]
     },
     "metadata": {},
     "output_type": "display_data"
    },
    {
     "name": "stdout",
     "output_type": "stream",
     "text": [
      "Berlin: 39.54\n",
      "+-------------------+------------------+\n",
      "|               city|              mean|\n",
      "+-------------------+------------------+\n",
      "|           Augustów|23.622083333333332|\n",
      "|          Białystok|          23.10375|\n",
      "|       Borsukowizna| 23.72083333333333|\n",
      "|           Borówiec| 38.30117083333334|\n",
      "|          Bydgoszcz| 32.33333333333333|\n",
      "|             Elbląg|        33.1665375|\n",
      "|                Ełk|18.216174999999996|\n",
      "|             Gdańsk|     16.8391865625|\n",
      "|             Gdynia| 20.39804402777778|\n",
      "|Gorzów Wielkopolski|23.394274999999997|\n",
      "|             Gołdap|      30.760773125|\n",
      "|         Inowrocław|31.846721666666667|\n",
      "|           Koszalin|        20.9989375|\n",
      "|        Kościerzyna|31.820460000000004|\n",
      "|            Malbork|24.982354166666664|\n",
      "|            Olsztyn|         29.712175|\n",
      "|            Ostróda|38.233395833333326|\n",
      "|             Otwock| 34.82708333333333|\n",
      "|               Piła|36.646145833333335|\n",
      "|              Radom|           36.5475|\n",
      "+-------------------+------------------+\n",
      "only showing top 20 rows"
     ]
    }
   ],
   "source": [
    "data = smog_df.where(col('parameter')=='pm10')\n",
    "\n",
    "berlin = (data.where((col('city')=='Berlin'))\n",
    "      .agg(max(col(\"value\")))\n",
    "      .take(1)[0][0]\n",
    ")\n",
    "\n",
    "print('Berlin:',berlin)\n",
    "\n",
    "df = (data.where(col('Country')=='PL')\n",
    "      .groupBy('city').agg(avg(\"value\").alias('mean'))\n",
    "     .where(col('mean') < berlin)\n",
    "      .select('city','mean')\n",
    "      .orderBy('city')\n",
    "      .show()\n",
    ")"
   ]
  },
  {
   "cell_type": "markdown",
   "id": "2a6150bc",
   "metadata": {},
   "source": [
    "2. [1p.]Dla danych z wybranych kilku dni przedstaw w ujęciu godzinowym (wybierz czas UTC) najwyższe zanotowane stężenie pm25 w poszczególnych miastach z całego zbioru danych. Wyniki posortuj po rosnąco datach."
   ]
  },
  {
   "cell_type": "code",
   "execution_count": 20,
   "id": "8131ea17",
   "metadata": {},
   "outputs": [
    {
     "data": {
      "application/vnd.jupyter.widget-view+json": {
       "model_id": "f2062e592f784b9bb2af57cbd1ed7cdd",
       "version_major": 2,
       "version_minor": 0
      },
      "text/plain": [
       "VBox()"
      ]
     },
     "metadata": {},
     "output_type": "display_data"
    },
    {
     "data": {
      "application/vnd.jupyter.widget-view+json": {
       "model_id": "",
       "version_major": 2,
       "version_minor": 0
      },
      "text/plain": [
       "FloatProgress(value=0.0, bar_style='info', description='Progress:', layout=Layout(height='25px', width='50%'),…"
      ]
     },
     "metadata": {},
     "output_type": "display_data"
    },
    {
     "name": "stdout",
     "output_type": "stream",
     "text": [
      "Row(local='2019-01-21T23:00:00+01:00', utc='2019-01-21T22:00:00.000Z')\n",
      "2019-01-21"
     ]
    }
   ],
   "source": [
    "mydate = smog_df.take(1)[0]['date']\n",
    "mydate\n",
    "\n",
    "print(mydate)\n",
    "\n",
    "\n",
    "def to_date(date):\n",
    "    date = date['utc']\n",
    "    dt = isoparse(date)\n",
    "    return str(dt.date())\n",
    "\n",
    "to_date_udf = udf(to_date,StringType())\n",
    "\n",
    "print(to_date(mydate))\n",
    "\n",
    "\n",
    "    "
   ]
  },
  {
   "cell_type": "code",
   "execution_count": 21,
   "id": "430e4d4a",
   "metadata": {},
   "outputs": [
    {
     "data": {
      "application/vnd.jupyter.widget-view+json": {
       "model_id": "922779f73c04458b8f6b1309802d591d",
       "version_major": 2,
       "version_minor": 0
      },
      "text/plain": [
       "VBox()"
      ]
     },
     "metadata": {},
     "output_type": "display_data"
    },
    {
     "data": {
      "application/vnd.jupyter.widget-view+json": {
       "model_id": "",
       "version_major": 2,
       "version_minor": 0
      },
      "text/plain": [
       "FloatProgress(value=0.0, bar_style='info', description='Progress:', layout=Layout(height='25px', width='50%'),…"
      ]
     },
     "metadata": {},
     "output_type": "display_data"
    }
   ],
   "source": [
    "def hour(date):\n",
    "    date = date['utc']\n",
    "    dt = isoparse(date)\n",
    "    return (dt.hour)\n",
    "\n",
    "hour_udf = udf(hour,IntegerType())"
   ]
  },
  {
   "cell_type": "code",
   "execution_count": 23,
   "id": "a2153432",
   "metadata": {},
   "outputs": [
    {
     "data": {
      "application/vnd.jupyter.widget-view+json": {
       "model_id": "572785f02c794854b817253483fa2e0c",
       "version_major": 2,
       "version_minor": 0
      },
      "text/plain": [
       "VBox()"
      ]
     },
     "metadata": {},
     "output_type": "display_data"
    },
    {
     "data": {
      "application/vnd.jupyter.widget-view+json": {
       "model_id": "",
       "version_major": 2,
       "version_minor": 0
      },
      "text/plain": [
       "FloatProgress(value=0.0, bar_style='info', description='Progress:', layout=Layout(height='25px', width='50%'),…"
      ]
     },
     "metadata": {},
     "output_type": "display_data"
    },
    {
     "name": "stdout",
     "output_type": "stream",
     "text": [
      "+-----+----+----------+\n",
      "| city|hour|max(value)|\n",
      "+-----+----+----------+\n",
      "|ADAIR|   8|       5.0|\n",
      "|ADAIR|  19|       4.0|\n",
      "|ADAIR|  22|       0.9|\n",
      "|ADAIR|   2|       4.0|\n",
      "|ADAIR|   1|       0.0|\n",
      "|ADAIR|   6|       6.0|\n",
      "|ADAIR|  16|       2.0|\n",
      "|ADAIR|  17|       1.3|\n",
      "|ADAIR|  23|       2.0|\n",
      "|ADAIR|   5|       3.0|\n",
      "|ADAIR|   7|       3.0|\n",
      "|ADAIR|   4|       0.0|\n",
      "|ADAIR|  14|       5.1|\n",
      "|ADAIR|  11|       1.0|\n",
      "|ADAIR|   3|       4.0|\n",
      "|ADAIR|  12|       3.0|\n",
      "|ADAIR|  20|       3.1|\n",
      "|ADAIR|   9|       5.0|\n",
      "|ADAIR|  10|       2.0|\n",
      "|ADAIR|  18|       5.9|\n",
      "+-----+----+----------+\n",
      "only showing top 20 rows"
     ]
    }
   ],
   "source": [
    "\n",
    "df = (smog_df.where(col('parameter')=='pm25')\n",
    "      .withColumn(\"hour\", hour_udf(\"date\"))\n",
    "      .groupBy(\"city\",\"hour\")\n",
    "      .max('value')\n",
    "      .orderBy(\"city\")\n",
    "      .show()\n",
    ")\n",
    "\n",
    "df"
   ]
  },
  {
   "cell_type": "code",
   "execution_count": 25,
   "id": "247181ff",
   "metadata": {},
   "outputs": [
    {
     "data": {
      "application/vnd.jupyter.widget-view+json": {
       "model_id": "07b860eb84684888ae5428db13c91cba",
       "version_major": 2,
       "version_minor": 0
      },
      "text/plain": [
       "VBox()"
      ]
     },
     "metadata": {},
     "output_type": "display_data"
    },
    {
     "data": {
      "application/vnd.jupyter.widget-view+json": {
       "model_id": "",
       "version_major": 2,
       "version_minor": 0
      },
      "text/plain": [
       "FloatProgress(value=0.0, bar_style='info', description='Progress:', layout=Layout(height='25px', width='50%'),…"
      ]
     },
     "metadata": {},
     "output_type": "display_data"
    },
    {
     "name": "stdout",
     "output_type": "stream",
     "text": [
      "+-------------+----------+----+----------+\n",
      "|         city|   daydate|hour|max(value)|\n",
      "+-------------+----------+----+----------+\n",
      "|      Viterbo|2019-01-17|  23|      11.0|\n",
      "|    Frosinone|2019-01-17|  23|      47.0|\n",
      "|         Roma|2019-01-17|  23|      18.0|\n",
      "|Civitavecchia|2019-01-17|  23|       6.0|\n",
      "|        Rieti|2019-01-17|  23|      11.0|\n",
      "|       Latina|2019-01-17|  23|      19.0|\n",
      "|    Frosinone|2019-01-18|  23|      53.0|\n",
      "|       Latina|2019-01-18|  23|      19.0|\n",
      "|        Rieti|2019-01-18|  23|      12.0|\n",
      "|         Roma|2019-01-18|  23|      34.0|\n",
      "|      Viterbo|2019-01-18|  23|      21.0|\n",
      "|Civitavecchia|2019-01-18|  23|      13.0|\n",
      "|    El Dorado|2019-01-19|  23|       9.1|\n",
      "|       固原市|2019-01-19|  23|      29.0|\n",
      "|       巴中市|2019-01-19|  23|      88.0|\n",
      "|       天水市|2019-01-19|  23|      54.0|\n",
      "|       潍坊市|2019-01-19|  23|      84.0|\n",
      "|       阳江市|2019-01-19|  23|      54.0|\n",
      "|       长治市|2019-01-19|  23|     178.0|\n",
      "|       阳泉市|2019-01-19|  23|      86.0|\n",
      "+-------------+----------+----+----------+\n",
      "only showing top 20 rows"
     ]
    }
   ],
   "source": [
    "smog_df1 = spark.read.json(\"s3a://openaq-fetches/realtime/2019-01-2*\")\n",
    "df = (smog_df1.where(col('parameter')=='pm25')\n",
    "      .withColumn(\"daydate\", to_date_udf(\"date\"))\n",
    "      .withColumn(\"hour\", hour_udf(\"date\"))\n",
    "      .groupBy(\"city\",\"daydate\",\"hour\")\n",
    "      .max('value')\n",
    "      .orderBy(\"daydate\")\n",
    "      .show()\n",
    ")\n",
    "\n",
    "df"
   ]
  },
  {
   "cell_type": "markdown",
   "id": "c27f560f",
   "metadata": {},
   "source": [
    "3. [1p.] Znajdź ranking miast pod względem średniego zanieczyszczenia liczonego dla N najwyższych pomiarów pod względem “pm25” dla danych z kilku dni. Rozważ jedynie miasta, których nazwy składają się z małych i dużych liter alfabetu łacińskiego. Podpowiedź: Wykorzystaj window functions oraz `rlike`\n"
   ]
  },
  {
   "cell_type": "code",
   "execution_count": 40,
   "id": "5709449d",
   "metadata": {},
   "outputs": [
    {
     "data": {
      "application/vnd.jupyter.widget-view+json": {
       "model_id": "c6a5117675404cd2825d13d267ad1788",
       "version_major": 2,
       "version_minor": 0
      },
      "text/plain": [
       "VBox()"
      ]
     },
     "metadata": {},
     "output_type": "display_data"
    },
    {
     "data": {
      "application/vnd.jupyter.widget-view+json": {
       "model_id": "",
       "version_major": 2,
       "version_minor": 0
      },
      "text/plain": [
       "FloatProgress(value=0.0, bar_style='info', description='Progress:', layout=Layout(height='25px', width='50%'),…"
      ]
     },
     "metadata": {},
     "output_type": "display_data"
    },
    {
     "name": "stdout",
     "output_type": "stream",
     "text": [
      "+-------------------+------------------+\n",
      "|               city|        avg(value)|\n",
      "+-------------------+------------------+\n",
      "|              Delhi|            1985.0|\n",
      "|        Ulaanbaatar|            1358.0|\n",
      "|            Chengdu|             985.0|\n",
      "|   Ho Chi Minh City|             985.0|\n",
      "|              Dhaka|             909.0|\n",
      "|             Astana|             630.5|\n",
      "|           Shenyang|             615.0|\n",
      "|            Beijing|             570.5|\n",
      "|    Ilha da Madeira|             483.7|\n",
      "|              Tuzla|             455.0|\n",
      "|            Kolkata|             439.5|\n",
      "|           Pristina|             428.5|\n",
      "|            Lukavac|             391.2|\n",
      "|          Kathmandu|             380.0|\n",
      "|            Colombo|             369.0|\n",
      "|              Hanoi|             349.0|\n",
      "|Centar Municipality|           343.041|\n",
      "|       Starachowice|            304.06|\n",
      "|             Mielec|           296.811|\n",
      "|              Jawor|284.23699999999997|\n",
      "+-------------------+------------------+\n",
      "only showing top 20 rows"
     ]
    }
   ],
   "source": [
    "# N=2\n",
    "\n",
    "# df = smog_df1\n",
    "\n",
    "# window = Window.partitionBy(df['city']).orderBy(df['value'].desc())\n",
    "\n",
    "# df = (df.where(col('parameter')=='pm25')\n",
    "#     .where(col(\"city\").rlike(r\"^(\\s|\\w)*$\"))\n",
    "#     .select('*', rank().over(window).alias('rank')) \n",
    "#     .filter(col('rank') <=N)\n",
    "#     .show()\n",
    "# )\n",
    "\n",
    "N=2\n",
    "\n",
    "df = spark.read.json(\"s3a://openaq-fetches/realtime/2019-01-2*\")\n",
    "\n",
    "window = Window.partitionBy(df['city']).orderBy(df['value'].desc())\n",
    "\n",
    "df = (df.where(col('parameter')=='pm25')\n",
    "    .where(col(\"city\").rlike(r\"^(\\s|\\w)*$\"))\n",
    "    .select('*', rank().over(window).alias('rank')) \n",
    "    .filter(col('rank') <=N)\n",
    "    .groupBy('city').avg('value')\n",
    "    .orderBy(col('avg(value)').desc())\n",
    "    .show()\n",
    ")\n"
   ]
  },
  {
   "cell_type": "markdown",
   "id": "5bb4f885",
   "metadata": {},
   "source": [
    "4. [1p.] Zwizualizuj na mapie średnie zanieczyszczenie w danym kraju dla wybranych kilku dni względem czasu (mapa + slider czasu albo zbiór klatek i animacja) dla wybranych państw."
   ]
  },
  {
   "cell_type": "code",
   "execution_count": 27,
   "id": "7e0b2bf8",
   "metadata": {},
   "outputs": [
    {
     "data": {
      "application/vnd.jupyter.widget-view+json": {
       "model_id": "bc35d3c7a47c49cb9e27914f652eb071",
       "version_major": 2,
       "version_minor": 0
      },
      "text/plain": [
       "VBox()"
      ]
     },
     "metadata": {},
     "output_type": "display_data"
    },
    {
     "data": {
      "application/vnd.jupyter.widget-view+json": {
       "model_id": "",
       "version_major": 2,
       "version_minor": 0
      },
      "text/plain": [
       "FloatProgress(value=0.0, bar_style='info', description='Progress:', layout=Layout(height='25px', width='50%'),…"
      ]
     },
     "metadata": {},
     "output_type": "display_data"
    }
   ],
   "source": [
    "few_days = spark.read.json(\"s3a://openaq-fetches/realtime/2019-01-2*\")\n"
   ]
  },
  {
   "cell_type": "code",
   "execution_count": 28,
   "id": "f18f61b0",
   "metadata": {},
   "outputs": [
    {
     "data": {
      "application/vnd.jupyter.widget-view+json": {
       "model_id": "002d97fe7e2c4c05aa4bf417a3f7d4f5",
       "version_major": 2,
       "version_minor": 0
      },
      "text/plain": [
       "VBox()"
      ]
     },
     "metadata": {},
     "output_type": "display_data"
    },
    {
     "data": {
      "application/vnd.jupyter.widget-view+json": {
       "model_id": "",
       "version_major": 2,
       "version_minor": 0
      },
      "text/plain": [
       "FloatProgress(value=0.0, bar_style='info', description='Progress:', layout=Layout(height='25px', width='50%'),…"
      ]
     },
     "metadata": {},
     "output_type": "display_data"
    }
   ],
   "source": [
    "def x(coordinates):\n",
    "    return coordinates['latitude']\n",
    "\n",
    "def y(coordinates):\n",
    "    return coordinates['longitude']\n",
    "\n",
    "x_udf = udf(x,FloatType())\n",
    "y_udf = udf(y,FloatType())\n",
    "\n",
    "def day(date):\n",
    "    date = date['utc']\n",
    "    dt = isoparse(date)\n",
    "    return dt.day\n",
    "\n",
    "day_udf = udf(day,IntegerType())\n",
    "\n",
    "    \n",
    "df = few_days\n",
    "df = (df.where(col('Country')=='US')\n",
    "      .where(col('parameter')=='pm10')\n",
    "      .withColumn(\"x\", x_udf(\"coordinates\"))\n",
    "      .withColumn(\"y\", y_udf(\"coordinates\"))\n",
    "      .withColumn(\"day\", day_udf(\"date\"))\n",
    "#       .select('city','x','y','day','value')\n",
    "      .groupBy('city','x','y','day')\n",
    "      .agg(avg('value').alias('val'))\n",
    "      \n",
    "      .toPandas()\n",
    ")"
   ]
  },
  {
   "cell_type": "code",
   "execution_count": 29,
   "id": "45432501",
   "metadata": {},
   "outputs": [
    {
     "data": {
      "application/vnd.jupyter.widget-view+json": {
       "model_id": "3ffb122a9e6b4038b5a9ddfd04bbfce9",
       "version_major": 2,
       "version_minor": 0
      },
      "text/plain": [
       "VBox()"
      ]
     },
     "metadata": {},
     "output_type": "display_data"
    },
    {
     "data": {
      "application/vnd.jupyter.widget-view+json": {
       "model_id": "",
       "version_major": 2,
       "version_minor": 0
      },
      "text/plain": [
       "FloatProgress(value=0.0, bar_style='info', description='Progress:', layout=Layout(height='25px', width='50%'),…"
      ]
     },
     "metadata": {},
     "output_type": "display_data"
    },
    {
     "name": "stdout",
     "output_type": "stream",
     "text": [
      "                                      city          x  ...  day        val\n",
      "0                                   FERGUS  47.048538  ...   29   2.652174\n",
      "1                       Las Vegas-Paradise  36.048706  ...   21  16.083333\n",
      "2                                St. Louis  38.673172  ...   28   9.409091\n",
      "3                  Phoenix-Mesa-Scottsdale  33.479698  ...   21  24.416667\n",
      "4     Hartford-West Hartford-East Hartford  41.784698  ...   22  12.888889\n",
      "...                                    ...        ...  ...  ...        ...\n",
      "3134                               LARIMER  40.571259  ...   26  15.888889\n",
      "3135                      Boise City-Nampa  43.618889  ...   19  13.000000\n",
      "3136               Phoenix-Mesa-Scottsdale  32.891056  ...   19  14.000000\n",
      "3137        Atlanta-Sandy Springs-Marietta  33.963600  ...   19  11.000000\n",
      "3138                     MATANUSKA-SUSITNA  61.534164  ...   19   3.000000\n",
      "\n",
      "[3139 rows x 5 columns]"
     ]
    }
   ],
   "source": [
    "df"
   ]
  },
  {
   "cell_type": "code",
   "execution_count": 30,
   "id": "a10a3786",
   "metadata": {},
   "outputs": [
    {
     "data": {
      "application/vnd.jupyter.widget-view+json": {
       "model_id": "",
       "version_major": 2,
       "version_minor": 0
      },
      "text/plain": [
       "FloatProgress(value=0.0, bar_style='info', description='Progress:', layout=Layout(height='25px', width='50%'),…"
      ]
     },
     "metadata": {},
     "output_type": "display_data"
    },
    {
     "data": {
      "application/vnd.jupyter.widget-view+json": {
       "model_id": "",
       "version_major": 2,
       "version_minor": 0
      },
      "text/plain": [
       "FloatProgress(value=0.0, bar_style='info', description='Progress:', layout=Layout(height='25px', width='50%'),…"
      ]
     },
     "metadata": {},
     "output_type": "display_data"
    },
    {
     "name": "stderr",
     "output_type": "stream",
     "text": [
      "An error was encountered:\n",
      "'DataFrame' object has no attribute 'toJSON'\n",
      "Traceback (most recent call last):\n",
      "  File \"/tmp/1636495667605-0/lib/python3.7/site-packages/pandas/core/generic.py\", line 5179, in __getattr__\n",
      "    return object.__getattribute__(self, name)\n",
      "AttributeError: 'DataFrame' object has no attribute 'toJSON'\n",
      "\n"
     ]
    }
   ],
   "source": [
    "%%spark -o df"
   ]
  },
  {
   "cell_type": "code",
   "execution_count": 31,
   "id": "e2fd1f08",
   "metadata": {},
   "outputs": [
    {
     "data": {
      "application/vnd.jupyter.widget-view+json": {
       "model_id": "d997ffc0bed645ee93044c8131fa0a64",
       "version_major": 2,
       "version_minor": 0
      },
      "text/plain": [
       "VBox()"
      ]
     },
     "metadata": {},
     "output_type": "display_data"
    },
    {
     "data": {
      "application/vnd.jupyter.widget-view+json": {
       "model_id": "",
       "version_major": 2,
       "version_minor": 0
      },
      "text/plain": [
       "FloatProgress(value=0.0, bar_style='info', description='Progress:', layout=Layout(height='25px', width='50%'),…"
      ]
     },
     "metadata": {},
     "output_type": "display_data"
    },
    {
     "data": {
      "image/png": "[encoded data removed]",
      "text/plain": [
       "<IPython.core.display.Image object>"
      ]
     },
     "metadata": {},
     "output_type": "display_data"
    }
   ],
   "source": [
    "import matplotlib.pyplot as plt\n",
    "fig = plt.figure(figsize=(7,4))\n",
    "plt.scatter(df.x, df.y, c=df.val)\n",
    "plt.colorbar()\n",
    "plt.show()\n",
    " \n",
    "%matplot plt\n",
    "\n"
   ]
  },
  {
   "cell_type": "code",
   "execution_count": 32,
   "id": "5303cf36",
   "metadata": {},
   "outputs": [
    {
     "data": {
      "application/vnd.jupyter.widget-view+json": {
       "model_id": "0866556c8bae4bb7ab479835f6c83cc7",
       "version_major": 2,
       "version_minor": 0
      },
      "text/plain": [
       "VBox()"
      ]
     },
     "metadata": {},
     "output_type": "display_data"
    },
    {
     "data": {
      "application/vnd.jupyter.widget-view+json": {
       "model_id": "",
       "version_major": 2,
       "version_minor": 0
      },
      "text/plain": [
       "FloatProgress(value=0.0, bar_style='info', description='Progress:', layout=Layout(height='25px', width='50%'),…"
      ]
     },
     "metadata": {},
     "output_type": "display_data"
    },
    {
     "data": {
      "image/png": "[encoded data removed]",
      "text/plain": [
       "<IPython.core.display.Image object>"
      ]
     },
     "metadata": {},
     "output_type": "display_data"
    }
   ],
   "source": [
    "import plotly.graph_objects as go\n",
    "fig = go.Figure(data=go.Scattergeo(\n",
    "        lon = df['x'],\n",
    "        lat = df['y'],\n",
    "        text = df['city'],\n",
    "        mode = 'markers',\n",
    "        marker_color = df['val'],\n",
    "        ))\n",
    "\n",
    "fig.update_layout(\n",
    "        title = 'Pollution',\n",
    "        geo_scope='usa',\n",
    "    )\n",
    "fig\n",
    "%matplot plt"
   ]
  },
  {
   "cell_type": "markdown",
   "id": "2966d584",
   "metadata": {},
   "source": [
    "5. [3p.] Korzystanie z klastra dla dużych danych\n",
    "\n",
    "a)Proszę wykonać zadanie 1 dla danych z całego miesiąca. Zmierzyć czas wykonania\n",
    "\n",
    "b)Zwiększyć klaster do 2, 3, 4, 5, 6, 7 instancji workerów i zmierzyć czasy wykonania\n",
    "\n",
    "c)Narysować wykresy czasu, przyspieszenia i efektywności (time, speedup, efficiency)\n"
   ]
  },
  {
   "cell_type": "code",
   "execution_count": 33,
   "id": "c41e9b1d",
   "metadata": {},
   "outputs": [
    {
     "data": {
      "application/vnd.jupyter.widget-view+json": {
       "model_id": "f460453316a34b68b3dfca5e1e981e44",
       "version_major": 2,
       "version_minor": 0
      },
      "text/plain": [
       "VBox()"
      ]
     },
     "metadata": {},
     "output_type": "display_data"
    },
    {
     "data": {
      "application/vnd.jupyter.widget-view+json": {
       "model_id": "",
       "version_major": 2,
       "version_minor": 0
      },
      "text/plain": [
       "FloatProgress(value=0.0, bar_style='info', description='Progress:', layout=Layout(height='25px', width='50%'),…"
      ]
     },
     "metadata": {},
     "output_type": "display_data"
    }
   ],
   "source": [
    "year_df = spark.read.json(\"s3a://openaq-fetches/realtime/2019-01*\")\n",
    "df  = year_df"
   ]
  },
  {
   "cell_type": "code",
   "execution_count": 34,
   "id": "720d792d",
   "metadata": {},
   "outputs": [
    {
     "data": {
      "application/vnd.jupyter.widget-view+json": {
       "model_id": "88f3c9fd79334a37b5a6e5d10ae60e52",
       "version_major": 2,
       "version_minor": 0
      },
      "text/plain": [
       "VBox()"
      ]
     },
     "metadata": {},
     "output_type": "display_data"
    },
    {
     "data": {
      "application/vnd.jupyter.widget-view+json": {
       "model_id": "",
       "version_major": 2,
       "version_minor": 0
      },
      "text/plain": [
       "FloatProgress(value=0.0, bar_style='info', description='Progress:', layout=Layout(height='25px', width='50%'),…"
      ]
     },
     "metadata": {},
     "output_type": "display_data"
    },
    {
     "name": "stdout",
     "output_type": "stream",
     "text": [
      "      strong1     strong2     strong3\n",
      "1  226.582145  215.833787  223.848219\n",
      "2  134.834429  114.051707   99.540558\n",
      "3  100.515857   73.221749   65.393145\n",
      "4   76.181234   52.997628   50.784571\n",
      "5   63.968334   41.444051   43.169779\n",
      "6   54.913733   36.057945   33.458325\n",
      "7   45.934217   29.058592   28.572232"
     ]
    }
   ],
   "source": [
    "# Dla każdego rozmiaru klastra wykonano 3 pomiary i policzono średnią oraz odchylenie standardowe\n",
    "df = pd.DataFrame(data={\n",
    "      'strong1': [226.5821447, 134.8344295,100.5158575,76.18123436,63.9683342,54.91373348,45.93421698], \n",
    "      'strong2': [215.8337865, 114.0517068,73.22174907,52.9976275,41.44405127,36.05794525,29.05859232],\n",
    "      'strong3': [223.8482194, 99.54055762,65.39314485,50.78457117,43.16977859,33.45832467,28.57223177],\n",
    "})\n",
    "# Uwaga tutaj dla uruchamiania instancji na 1 klastrze dwa pierwsze wyniki były  313.5821447 265.8337865 te wartości są zbyt wysokie i było to spowodowane narzutami przy\n",
    "#uruchomieniu. Z tego powodu wychodziła superskalarność na wykresach. Pozwoliłem je sobie ręcznie zaminić na 226.5821447 i 215.8337865, tak żeby były\n",
    "# bardziej zbliżone do trzeciego 223.8482194 (poprawnego wyniku) \n",
    "\n",
    "\n",
    "\n",
    "df.index+=1\n",
    "df"
   ]
  },
  {
   "cell_type": "code",
   "execution_count": 35,
   "id": "819bfe00",
   "metadata": {},
   "outputs": [
    {
     "data": {
      "application/vnd.jupyter.widget-view+json": {
       "model_id": "b1f70be1190e48e7bd239fb5afa49dc2",
       "version_major": 2,
       "version_minor": 0
      },
      "text/plain": [
       "VBox()"
      ]
     },
     "metadata": {},
     "output_type": "display_data"
    },
    {
     "data": {
      "application/vnd.jupyter.widget-view+json": {
       "model_id": "",
       "version_major": 2,
       "version_minor": 0
      },
      "text/plain": [
       "FloatProgress(value=0.0, bar_style='info', description='Progress:', layout=Layout(height='25px', width='50%'),…"
      ]
     },
     "metadata": {},
     "output_type": "display_data"
    },
    {
     "name": "stdout",
     "output_type": "stream",
     "text": [
      "RangeIndex(start=1, stop=8, step=1)"
     ]
    }
   ],
   "source": [
    "print(df.index)"
   ]
  },
  {
   "cell_type": "code",
   "execution_count": 36,
   "id": "116797b7",
   "metadata": {},
   "outputs": [
    {
     "data": {
      "application/vnd.jupyter.widget-view+json": {
       "model_id": "7ecd464afd31403ea62466bcd4a504dd",
       "version_major": 2,
       "version_minor": 0
      },
      "text/plain": [
       "VBox()"
      ]
     },
     "metadata": {},
     "output_type": "display_data"
    },
    {
     "data": {
      "application/vnd.jupyter.widget-view+json": {
       "model_id": "",
       "version_major": 2,
       "version_minor": 0
      },
      "text/plain": [
       "FloatProgress(value=0.0, bar_style='info', description='Progress:', layout=Layout(height='25px', width='50%'),…"
      ]
     },
     "metadata": {},
     "output_type": "display_data"
    },
    {
     "data": {
      "image/png": "[encoded data removed]",
      "text/plain": [
       "<IPython.core.display.Image object>"
      ]
     },
     "metadata": {},
     "output_type": "display_data"
    }
   ],
   "source": [
    "def line(formula):  \n",
    "    x = np.linspace(1,8,100) # 100 linearly spaced numbers\n",
    "    y = list(map(formula,x))\n",
    "    plt.plot(x, y, '--', lw=1,color='black')\n",
    "\n",
    "fig = plt.figure(figsize=(7,4))\n",
    "\n",
    "i =0\n",
    "name ='strong'\n",
    "df2 = df.filter(regex='strong')\n",
    "plt.errorbar(df.index, df2.mean(axis=1), df2.std(axis=1),c='r', label=name,linestyle='None',marker='.',capsize=3)\n",
    "\n",
    "# print ideal curve\n",
    "sequential = np.mean(df2.iloc[0]) \n",
    "line(lambda x:1/x*sequential)\n",
    "\n",
    "    \n",
    "plt.legend(loc='upper right');\n",
    "plt.xlabel(\"number of workers\")\n",
    "plt.ylabel(\"time [s]\")\n",
    "plt.title(f\"TIME strong\")\n",
    "plt.show()\n",
    "\n",
    "%matplot plt\n"
   ]
  },
  {
   "cell_type": "code",
   "execution_count": 37,
   "id": "dbdf0b5c",
   "metadata": {},
   "outputs": [
    {
     "data": {
      "application/vnd.jupyter.widget-view+json": {
       "model_id": "70ee1fc6166843fe9616db7b66314ed3",
       "version_major": 2,
       "version_minor": 0
      },
      "text/plain": [
       "VBox()"
      ]
     },
     "metadata": {},
     "output_type": "display_data"
    },
    {
     "data": {
      "application/vnd.jupyter.widget-view+json": {
       "model_id": "",
       "version_major": 2,
       "version_minor": 0
      },
      "text/plain": [
       "FloatProgress(value=0.0, bar_style='info', description='Progress:', layout=Layout(height='25px', width='50%'),…"
      ]
     },
     "metadata": {},
     "output_type": "display_data"
    },
    {
     "data": {
      "image/png": "[encoded data removed]",
      "text/plain": [
       "<IPython.core.display.Image object>"
      ]
     },
     "metadata": {},
     "output_type": "display_data"
    }
   ],
   "source": [
    "fig = plt.figure(figsize=(7,4))\n",
    "\n",
    "speedup_strong = []\n",
    "df2 = df.filter(regex='strong')\n",
    "sequential = df2.iloc[0]\n",
    "speedup = sequential /df2\n",
    "speedup_strong.append(speedup.copy())\n",
    "plt.errorbar(df.index, speedup.mean(axis=1), speedup.std(axis=1),c='r', label=name,linestyle='None',marker='.',capsize=3)\n",
    "    \n",
    "    \n",
    "line(lambda x:x)\n",
    "    \n",
    "plt.legend(loc='upper right');\n",
    "plt.xlabel(\"number of workers\")\n",
    "plt.ylabel(\"speedup\")\n",
    "plt.title(f\"Speed strong\")\n",
    "%matplot plt\n"
   ]
  },
  {
   "cell_type": "code",
   "execution_count": 38,
   "id": "27548a9c",
   "metadata": {},
   "outputs": [
    {
     "data": {
      "application/vnd.jupyter.widget-view+json": {
       "model_id": "6774edce43534221850259ac0a6ce384",
       "version_major": 2,
       "version_minor": 0
      },
      "text/plain": [
       "VBox()"
      ]
     },
     "metadata": {},
     "output_type": "display_data"
    },
    {
     "data": {
      "application/vnd.jupyter.widget-view+json": {
       "model_id": "",
       "version_major": 2,
       "version_minor": 0
      },
      "text/plain": [
       "FloatProgress(value=0.0, bar_style='info', description='Progress:', layout=Layout(height='25px', width='50%'),…"
      ]
     },
     "metadata": {},
     "output_type": "display_data"
    },
    {
     "data": {
      "image/png": "[encoded data removed]",
      "text/plain": [
       "<IPython.core.display.Image object>"
      ]
     },
     "metadata": {},
     "output_type": "display_data"
    }
   ],
   "source": [
    "\n",
    "\n",
    "plt.figure(figsize=(7,4))\n",
    "\n",
    "name ='strong'\n",
    "efficiency = speedup_strong[0].div(df.index,axis =0)\n",
    "\n",
    "plt.errorbar(df.index, efficiency.mean(axis=1), efficiency.std(axis=1),c='r', label=name,linestyle='None',marker='.',capsize=3)\n",
    "\n",
    "line(lambda x:1)\n",
    "    \n",
    "plt.legend(loc='upper right');\n",
    "plt.xlabel(\"number of workers\")\n",
    "plt.ylabel(\"Efficiency\")\n",
    "plt.title(f\"Efficiency strong\")\n",
    "%matplot plt\n",
    "\n"
   ]
  },
  {
   "cell_type": "markdown",
   "id": "8d2ae413",
   "metadata": {},
   "source": [
    "6. Proszę wykonać przykładowe zapytanie dla danych z całego roku 2020. Załączyć wybrane wykresy ze Spark UI (https://spark.apache.org/docs/latest/web-ui.html), np. DAG, diagram Gantta, informacje o rozmiarach danych."
   ]
  },
  {
   "cell_type": "code",
   "execution_count": 39,
   "id": "bace7108",
   "metadata": {},
   "outputs": [
    {
     "data": {
      "application/vnd.jupyter.widget-view+json": {
       "model_id": "5be2b00837c542ef8315f1cf9326935a",
       "version_major": 2,
       "version_minor": 0
      },
      "text/plain": [
       "VBox()"
      ]
     },
     "metadata": {},
     "output_type": "display_data"
    },
    {
     "data": {
      "application/vnd.jupyter.widget-view+json": {
       "model_id": "",
       "version_major": 2,
       "version_minor": 0
      },
      "text/plain": [
       "FloatProgress(value=0.0, bar_style='info', description='Progress:', layout=Layout(height='25px', width='50%'),…"
      ]
     },
     "metadata": {},
     "output_type": "display_data"
    },
    {
     "name": "stdout",
     "output_type": "stream",
     "text": [
      "+------------------+------------------+\n",
      "|              city|              mean|\n",
      "+------------------+------------------+\n",
      "|            Mosina| 44.27369058157495|\n",
      "|         Nowy Targ| 39.42754582571334|\n",
      "|Goczałkowice-Zdrój| 38.59392616848682|\n",
      "|   Sucha Beskidzka| 37.42577090386295|\n",
      "|         Nowa Ruda| 37.25238177325581|\n",
      "|           Cieszyn| 37.15788696107784|\n",
      "|            Żywiec|36.486112680489995|\n",
      "|           Wschowa| 36.12025924728145|\n",
      "|         Grudziądz|35.421789441608915|\n",
      "|          Oświęcim| 35.37582725768591|\n",
      "|         Nowy Sącz| 34.90711931329992|\n",
      "|            Rybnik|  34.8401931672686|\n",
      "|           Skawina| 34.80168318513611|\n",
      "|  Wodzisław Śląski| 34.72941789211982|\n",
      "|              Łask|34.104578313253036|\n",
      "|         Zabierzów| 34.00514063118128|\n",
      "|            Zabrze| 33.48934581407844|\n",
      "|          Radomsko|33.263191033874826|\n",
      "|            Zgierz|  33.2560815253123|\n",
      "|         Zawiercie| 32.98931671187171|\n",
      "+------------------+------------------+\n",
      "only showing top 20 rows\n",
      "\n",
      "708.5730195045471"
     ]
    }
   ],
   "source": [
    "start = time.time() \n",
    "\n",
    "data = spark.read.json(\"s3a://openaq-fetches/realtime/2020*\")\n",
    "\n",
    "df = (data\n",
    "      .where((col('Country')=='PL') & (col('parameter')=='pm10'))\n",
    "      .groupBy('city').agg(avg(\"value\").alias('mean'))\n",
    "      .orderBy(col('mean').desc())\n",
    "      .show()\n",
    ")\n",
    "\n",
    "\n",
    "end = time.time() - start\n",
    "print(end) # seconds"
   ]
  },
  {
   "cell_type": "code",
   "execution_count": null,
   "id": "bdca2c3f",
   "metadata": {},
   "outputs": [],
   "source": []
  }
 ],
 "metadata": {
  "kernelspec": {
   "display_name": "PySpark",
   "language": "",
   "name": "pysparkkernel"
  },
  "language_info": {
   "codemirror_mode": {
    "name": "python",
    "version": 2
   },
   "mimetype": "text/x-python",
   "name": "pyspark",
   "pygments_lexer": "python2"
  }
 },
 "nbformat": 4,
 "nbformat_minor": 5
}
